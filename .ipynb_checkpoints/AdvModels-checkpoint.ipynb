{
 "cells": [
  {
   "cell_type": "code",
   "execution_count": null,
   "id": "ba1f9b42-c61b-4e30-8443-1bd126d2351e",
   "metadata": {},
   "outputs": [],
   "source": [
    "%run ColumnTransformers.ipynb\n",
    "from lightgbm import LGBMClassifier\n",
    "from sklearn.pipeline import Pipeline\n",
    "from sklearn.model_selection import GridSearchCV\n",
    "from xgboost import XGBClassifier"
   ]
  },
  {
   "cell_type": "code",
   "execution_count": null,
   "id": "dc3c1836-ecc8-443c-af29-ce1ae3cad20e",
   "metadata": {},
   "outputs": [],
   "source": [
    "def XgboostSearch(ColumnTransformer): \n",
    "    xgb_pipeline = Pipeline([\n",
    "        ('preprocessor', ColumnTransformer),\n",
    "        ('model', XGBClassifier(random_state=42, eval_metric='auc'))\n",
    "    ])\n",
    "\n",
    "    param_grid_xgb = {\n",
    "        'model__n_estimators': [100, 300,500],  \n",
    "        'model__learning_rate': [0.001,0.01],  \n",
    "        'model__max_depth': [2,3,4], \n",
    "        'model__subsample': [0.7, 1.0],  \n",
    "        'model__colsample_bytree': [0.6, 1.0],  \n",
    "        'model__gamma': [0, 0.1, 0.5 ], \n",
    "        'model__reg_lambda': [0,1, 4], \n",
    "        'scale_pos_weight'=2}  # weight = 1 if negstive else wegiht=scale_pos_weight\n",
    "        # fix this \n",
    "\n",
    "    grid_search_XgBoost = GridSearchCV(xgb_pipeline, param_grid_xgb, cv=5, scoring='roc_auc', n_jobs=-1,verbose=3)\n",
    "    return grid_search_XgBoost"
   ]
  },
  {
   "cell_type": "code",
   "execution_count": null,
   "id": "7278f5c3-6915-4735-9f56-086dac40cd69",
   "metadata": {},
   "outputs": [],
   "source": [
    "\n",
    "def LightgbmSearch(column_transformer):\n",
    "    lgb_pipeline = Pipeline([\n",
    "        ('preprocessor', column_transformer),\n",
    "        ('model', LGBMClassifier(random_state=42,eval_metric='auc'))\n",
    "    ])\n",
    "\n",
    "    param_grid_lgb = {\n",
    "        'model__n_estimators': [100, 300, 500],\n",
    "        'model__learning_rate': [0.001, 0.01],\n",
    "        'model__max_depth': [2, 3, 4],\n",
    "        'model__subsample': [0.7, 1.0],\n",
    "        'model__colsample_bytree': [0.6, 1.0],\n",
    "        'model__min_split_gain': [0, 0.1, 0.5],   # similar to gamma from XGB\n",
    "        'model__reg_lambda': [0, 1, 4], \n",
    "        'is_unbalance'=True\n",
    "    }\n",
    "\n",
    "    grid_search_LightGBM = GridSearchCV(\n",
    "        lgb_pipeline,\n",
    "        param_grid_lgb,\n",
    "        cv=5,\n",
    "        scoring='roc_auc',\n",
    "        n_jobs=-1,\n",
    "        verbose=3\n",
    "    )\n",
    "    \n",
    "    return grid_search_LightGBM"
   ]
  },
  {
   "cell_type": "code",
   "execution_count": 2,
   "id": "3129f133-5a29-4527-939a-169368282cee",
   "metadata": {
    "scrolled": true
   },
   "outputs": [
    {
     "name": "stdout",
     "output_type": "stream",
     "text": [
      "Collecting xgboost\n",
      "  Obtaining dependency information for xgboost from https://files.pythonhosted.org/packages/95/6c/d2a1636591e204667f320481b036acc9c526608bcc2319be71cce148102d/xgboost-3.0.0-py3-none-macosx_10_15_x86_64.whl.metadata\n",
      "  Downloading xgboost-3.0.0-py3-none-macosx_10_15_x86_64.whl.metadata (2.1 kB)\n",
      "Requirement already satisfied: numpy in /Users/piotrkot/Programming/PycharmProjects/UNI/UczenieMaszynowe/.venv/lib/python3.10/site-packages (from xgboost) (1.26.4)\n",
      "Requirement already satisfied: scipy in /Users/piotrkot/Programming/PycharmProjects/UNI/UczenieMaszynowe/.venv/lib/python3.10/site-packages (from xgboost) (1.15.2)\n",
      "Downloading xgboost-3.0.0-py3-none-macosx_10_15_x86_64.whl (2.2 MB)\n",
      "\u001b[2K   \u001b[90m━━━━━━━━━━━━━━━━━━━━━━━━━━━━━━━━━━━━━━━━\u001b[0m \u001b[32m2.2/2.2 MB\u001b[0m \u001b[31m9.7 MB/s\u001b[0m eta \u001b[36m0:00:00\u001b[0m:00:01\u001b[0m00:01\u001b[0m\n",
      "Installing collected packages: xgboost\n",
      "Successfully installed xgboost-3.0.0\n",
      "\n",
      "\u001b[1m[\u001b[0m\u001b[34;49mnotice\u001b[0m\u001b[1;39;49m]\u001b[0m\u001b[39;49m A new release of pip is available: \u001b[0m\u001b[31;49m23.2.1\u001b[0m\u001b[39;49m -> \u001b[0m\u001b[32;49m25.0.1\u001b[0m\n",
      "\u001b[1m[\u001b[0m\u001b[34;49mnotice\u001b[0m\u001b[1;39;49m]\u001b[0m\u001b[39;49m To update, run: \u001b[0m\u001b[32;49mpip install --upgrade pip\u001b[0m\n"
     ]
    }
   ],
   "source": [
    "def AdaSearch(column_transformer) : \n",
    "    ada_pipeline=Pipeline([\n",
    "        ('preprocessor',column_transformer) ,\n",
    "        (\"model\",AdaBoostClassifier(random_state=42))])\n",
    "\n",
    "    param_grid_ada = {\n",
    "    'model__n_estimators': [100,200], \n",
    "    'model__learning_rate': [0.6,1,2], \n",
    "    'model__estimator': [DecisionTreeClassifier(max_depth=2), \n",
    "                          DecisionTreeClassifier(max_depth=3),\n",
    "                          DecisionTreeClassifier(max_depth=5)]\n",
    "    }\n",
    "    grid_search_ada = GridSearchCV(ada_pipeline, param_grid_ada, cv=5, scoring='roc_auc', n_jobs=3)\n",
    "    return grid_search_ada"
   ]
  },
  {
   "cell_type": "code",
   "execution_count": null,
   "id": "ca7fa08b-68a9-4e06-a12a-94396669baea",
   "metadata": {},
   "outputs": [],
   "source": [
    "# set xgboost search weights properly \n",
    "# fix adaboost parameters \n",
    "# add catboost \n",
    "# add NN \n",
    "# Add visualisation to models\n",
    "# Add EDA "
   ]
  }
 ],
 "metadata": {
  "kernelspec": {
   "display_name": "Python 3 (ipykernel)",
   "language": "python",
   "name": "python3"
  },
  "language_info": {
   "codemirror_mode": {
    "name": "ipython",
    "version": 3
   },
   "file_extension": ".py",
   "mimetype": "text/x-python",
   "name": "python",
   "nbconvert_exporter": "python",
   "pygments_lexer": "ipython3",
   "version": "3.10.11"
  }
 },
 "nbformat": 4,
 "nbformat_minor": 5
}
