{
 "cells": [
  {
   "cell_type": "code",
   "execution_count": 144,
   "id": "13dd4bc6-87de-4d77-a897-487450ce0b92",
   "metadata": {},
   "outputs": [],
   "source": [
    "from imblearn.pipeline import Pipeline\n",
    "from imblearn.over_sampling import SMOTE\n",
    "from sklearn.compose import ColumnTransformer\n",
    "from sklearn.preprocessing import StandardScaler, OneHotEncoder\n",
    "from sklearn.ensemble import RandomForestClassifier\n",
    "from sklearn.model_selection import train_test_split\n",
    "import pandas as pd\n",
    "import numpy as np \n",
    "import matplotlib.pyplot as plt\n",
    "import seaborn as sns\n",
    "from sklearn.metrics import confusion_matrix, classification_report \n",
    "from sklearn.metrics import accuracy_score \n",
    "from sklearn.base import BaseEstimator, TransformerMixin\n",
    "from sklearn.neighbors import KNeighborsClassifier\n",
    "from sklearn.svm import SVC\n",
    "from sklearn.linear_model import LogisticRegression"
   ]
  },
  {
   "cell_type": "code",
   "execution_count": 145,
   "id": "28f1cf57-acb3-4365-be48-b1a434d28b17",
   "metadata": {},
   "outputs": [],
   "source": [
    "\n",
    "# df = pd.read_csv(\"merged_dataset.csv\", engine=\"python\", sep=\",\")\n",
    "# X = df.drop(columns=[\"Is.Fraudulent\"]).copy()\n",
    "# y = df[\"Is.Fraudulent\"].copy()\n",
    "\n",
    "# X_train, X_val, y_train, y_val = train_test_split(X, y, test_size=0.3, random_state=42, stratify=y)\n",
    "\n",
    "# ValidationData = pd.concat([X_val, y_val], axis=1)  \n",
    "# ValidationData.to_csv(\"ValidationData.csv\", index=False)\n",
    "\n",
    "# X_train, X_test, y_train, y_test = train_test_split(X_train, y_train, test_size=0.3, random_state=42, stratify=y_train)\n",
    "\n",
    "# y_test = pd.DataFrame(y_test, columns=[\"Is.Fraudulent\"])\n",
    "# y_train = pd.DataFrame(y_train, columns=[\"Is.Fraudulent\"])\n",
    "\n",
    "\n",
    "# TestData = pd.concat([X_test, y_test], axis=1)  \n",
    "# TestData.to_csv(\"TestData.csv\", index=False)\n",
    "\n",
    "# TrainData = pd.concat([X_train, y_train], axis=1)  \n",
    "# TrainData.to_csv(\"TrainData.csv\", index=False)\n"
   ]
  },
  {
   "cell_type": "code",
   "execution_count": 146,
   "id": "d66198b5-ba22-4547-b7fc-d96828cc480e",
   "metadata": {},
   "outputs": [],
   "source": [
    "class TimeTransformer(BaseEstimator, TransformerMixin):\n",
    "    \n",
    "    def __init__(self):\n",
    "        pass\n",
    "    def fit(self, X, y=None):\n",
    "        return self  \n",
    "    def transform(self, X):\n",
    "        df = X.copy()  \n",
    "        if \"Transaction.Date\" not in df.columns: \n",
    "            raise ValueError(\"What are you doing man?\")\n",
    "        df[\"Transaction.Date\"] = pd.to_datetime(df[\"Transaction.Date\"], format = \"ISO8601\")\n",
    "    \n",
    "                \n",
    "        df[\"day\"] = df[\"Transaction.Date\"].dt.day.astype(float)\n",
    "\n",
    "            \n",
    "        df[\"month\"] = df[\"Transaction.Date\"].dt.month.astype(float)\n",
    "        df[\"month_sin\"] = np.sin(2 * np.pi * df[\"month\"] / 12)\n",
    "        df[\"month_cos\"] = np.cos(2 * np.pi * df[\"month\"] / 12)\n",
    "        df[\"month_angle\"]=np.arctan2(df[\"month_sin\"],df[\"month_cos\"]) \n",
    "        \n",
    "        if \"Transaction.Hour\" in df.columns:\n",
    "            df[\"hour_sin\"] = np.sin(2 * np.pi * df[\"Transaction.Hour\"] / 24)\n",
    "            df[\"hour_cos\"] = np.cos(2 * np.pi * df[\"Transaction.Hour\"] / 24)\n",
    "            df[\"hour_angle\"] = np.arctan2(df[\"hour_sin\"], df[\"hour_cos\"])\n",
    "        else:\n",
    "            raise ValueError(\"What are you doing man?\")\n",
    "        \n",
    "        df[\"Transaction.Weekday\"] = df[\"Transaction.Date\"].dt.weekday + 1\n",
    "        df[\"FirstPartMonth\"]=df[\"day\"].apply(lambda x: 1 if x<=12 else 0) \n",
    "            \n",
    "        weekDaysEncoded=pd.get_dummies(df[\"Transaction.Weekday\"]) \n",
    "        \n",
    "        result=pd.concat([df[[\"month_angle\", \"hour_angle\",\"FirstPartMonth\"]], weekDaysEncoded], axis=1)\n",
    "        \n",
    "        return result.to_numpy()\n",
    "    "
   ]
  },
  {
   "cell_type": "code",
   "execution_count": 147,
   "id": "821af2e8-0f69-444f-abca-335a0835a98e",
   "metadata": {},
   "outputs": [],
   "source": [
    "class MinorTransfomer(BaseEstimator, TransformerMixin): \n",
    "\n",
    "    def __init__(self): \n",
    "        pass   \n",
    "    def fit(self, X, y=None):\n",
    "        return self  \n",
    "    def transform(self, X):\n",
    "        df=X.copy() \n",
    "        if \"Customer.Age\" not in df.columns: \n",
    "            raise ValueError(\"What are you doing man?\")\n",
    "        df[\"Is.Minor\"]=df[\"Customer.Age\"].apply(lambda x : True if x<18 else False) \n",
    "        return df[[\"Is.Minor\"]].to_numpy()\n",
    "        "
   ]
  },
  {
   "cell_type": "code",
   "execution_count": 148,
   "id": "3ea8e3ae-9117-4a18-b61a-672d678dcf7e",
   "metadata": {},
   "outputs": [],
   "source": [
    "class SexTransformer(BaseEstimator, TransformerMixin): \n",
    "    def __init__(self): \n",
    "         pass    \n",
    "    def fit(self, X, y=None):\n",
    "        return self  \n",
    "    def transform(self, X):\n",
    "        df=X.copy() \n",
    "        if \"sex\" not in df.columns: \n",
    "            raise ValueError(\"What are you doing man?\")\n",
    "        df[\"male\"]=df[\"sex\"].apply(lambda x : True if x==\"M\" else False)\n",
    "        return df[[\"male\"]].to_numpy() \n",
    "    "
   ]
  },
  {
   "cell_type": "code",
   "execution_count": 149,
   "id": "948e7582-eb24-4a55-afa2-bb4f2c42e483",
   "metadata": {},
   "outputs": [],
   "source": [
    "class BinaryPassthroughTransformer(BaseEstimator, TransformerMixin): \n",
    "    def __init__(self): \n",
    "        pass   \n",
    "    def fit(self, X, y=None):\n",
    "        return self  \n",
    "    def transform(self, X):\n",
    "        df=X.copy() \n",
    "        return df.to_numpy() "
   ]
  },
  {
   "cell_type": "code",
   "execution_count": 150,
   "id": "d9644ea2-7ff5-4b83-854e-564f71cd002a",
   "metadata": {},
   "outputs": [],
   "source": [
    "df = df=pd.read_csv(\"TrainData.csv\")\n",
    "X = df.drop(columns=[\"Is.Fraudulent\"]).copy()\n",
    "y = df[\"Is.Fraudulent\"].copy()\n",
    "X_train, X_test, y_train,y_test = train_test_split(X, y, test_size=0.3, random_state=42, stratify=y)"
   ]
  },
  {
   "cell_type": "markdown",
   "id": "c83232d2-e6ed-496d-904d-7eea84a626c4",
   "metadata": {},
   "source": [
    "## FIRST MODELS"
   ]
  },
  {
   "cell_type": "code",
   "execution_count": 151,
   "id": "e393e370-ac6a-4859-84b9-8f996226f248",
   "metadata": {
    "scrolled": true
   },
   "outputs": [],
   "source": [
    "def PipelineModel(model,Numerical=['Transaction.Amount', 'Customer.Age','Account.Age.Days','Quantity'],\n",
    "                    CatBasic=[\"Payment.Method\",'browser','Product.Category','Device.Used','source','Address.Match']):\n",
    "    \n",
    "    \n",
    "    column_transformer = ColumnTransformer([\n",
    "    ('time_features', TimeTransformer(),[\"Transaction.Date\",\"Transaction.Hour\"]), \n",
    "    (\"numerical\",StandardScaler(),Numerical), \n",
    "    (\"minor\",MinorTransfomer(),[\"Customer.Age\"]),\n",
    "    (\"sex\",SexTransformer(),[\"sex\"]),\n",
    "    (\"AddressMatch\",BinaryPassthroughTransformer(),[\"Address.Match\"]),\n",
    "    (\"catBasic\", OneHotEncoder(drop='if_binary' , handle_unknown='ignore'),CatBasic)])\n",
    "\n",
    "    classifier_pipeline=Pipeline([\n",
    "    ('preprocessor', column_transformer),  \n",
    "    ('smote', SMOTE(sampling_strategy=0.1,random_state=42)) ,\n",
    "    ('model',model)\n",
    "     ])\n",
    "    return classifier_pipeline\n",
    "\n",
    "    \n",
    "def PredictionQualityInfo(y_pred,y_test):\n",
    "    cm = confusion_matrix(y_test, y_pred)\n",
    "    plt.figure(figsize=(5,4))\n",
    "    sns.heatmap(cm, annot=True, fmt='d', cmap='Blues', xticklabels=[\"Not Fraud\", \"Fraud\"], yticklabels=[\"Not Fraud\", \"Fraud\"])\n",
    "    plt.xlabel(\"Predicted\")\n",
    "    plt.ylabel(\"Actual\")\n",
    "    plt.title(\"Confusion Matrix\")\n",
    "    plt.show()\n",
    "    print(\"Classification Report:\\n\", classification_report(y_test, y_pred))\n",
    "\n",
    "    \n",
    "def FitPredictResult(model,X_train,X_test,y_train,y_test):\n",
    "    classifier=PipelineModel(model)\n",
    "    classifier.fit(X_train,y_train) \n",
    "    y_pred=classifier.predict(X_test) \n",
    "    PredictionQualityInfo(y_pred,y_test) "
   ]
  },
  {
   "cell_type": "code",
   "execution_count": null,
   "id": "d88ca79e-4a33-4ce5-b7d6-abd378000f77",
   "metadata": {},
   "outputs": [],
   "source": [
    "Models=[RandomForestClassifier(n_estimators=100,bootstrap=True,max_features=\"sqrt\",random_state=42,max_depth=4,class_weight=\"balanced\"),LogisticRegression(random_state=42,class_weight=\"balanced\"), \n",
    "       KNeighborsClassifier(n_neighbors=5, metric='Euclidean')]\n",
    "\n",
    "for i in Models: \n",
    "    FitPredictResult(i,X_train,X_test,y_train,y_test)"
   ]
  },
  {
   "cell_type": "code",
   "execution_count": null,
   "id": "672cb656-08db-42cf-a9c8-80bc44ee16e1",
   "metadata": {},
   "outputs": [],
   "source": []
  }
 ],
 "metadata": {
  "kernelspec": {
   "display_name": "Python 3 (ipykernel)",
   "language": "python",
   "name": "python3"
  },
  "language_info": {
   "codemirror_mode": {
    "name": "ipython",
    "version": 3
   },
   "file_extension": ".py",
   "mimetype": "text/x-python",
   "name": "python",
   "nbconvert_exporter": "python",
   "pygments_lexer": "ipython3",
   "version": "3.10.11"
  }
 },
 "nbformat": 4,
 "nbformat_minor": 5
}
