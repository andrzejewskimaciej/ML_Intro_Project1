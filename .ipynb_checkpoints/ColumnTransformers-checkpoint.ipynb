{
 "cells": [
  {
   "cell_type": "code",
   "execution_count": 1,
   "id": "13dd4bc6-87de-4d77-a897-487450ce0b92",
   "metadata": {},
   "outputs": [],
   "source": [
    "from sklearn.pipeline import Pipeline\n",
    "from sklearn.compose import ColumnTransformer\n",
    "from sklearn.preprocessing import StandardScaler, OneHotEncoder\n",
    "from sklearn.ensemble import RandomForestClassifier\n",
    "from sklearn.model_selection import train_test_split\n",
    "import pandas as pd\n",
    "import numpy as np \n",
    "import matplotlib.pyplot as plt\n",
    "import seaborn as sns\n",
    "from sklearn.metrics import confusion_matrix, classification_report \n",
    "from sklearn.metrics import accuracy_score \n",
    "from sklearn.base import BaseEstimator, TransformerMixin\n",
    "from sklearn.neighbors import KNeighborsClassifier\n",
    "from sklearn.svm import SVC\n",
    "from sklearn.linear_model import LogisticRegression\n",
    "from sklearn.feature_selection  import RFE"
   ]
  },
  {
   "cell_type": "code",
   "execution_count": 2,
   "id": "28f1cf57-acb3-4365-be48-b1a434d28b17",
   "metadata": {},
   "outputs": [],
   "source": [
    "\n",
    "# df = pd.read_csv(\"merged_dataset.csv\", engine=\"python\", sep=\",\")\n",
    "# X = df.drop(columns=[\"Is.Fraudulent\"]).copy()\n",
    "# y = df[\"Is.Fraudulent\"].copy()\n",
    "\n",
    "# X_train, X_val, y_train, y_val = train_test_split(X, y, test_size=0.3, random_state=42, stratify=y)\n",
    "\n",
    "# ValidationData = pd.concat([X_val, y_val], axis=1)  \n",
    "# ValidationData.to_csv(\"ValidationData.csv\", index=False)\n",
    "\n",
    "# X_train, X_test, y_train, y_test = train_test_split(X_train, y_train, test_size=0.3, random_state=42, stratify=y_train)\n",
    "\n",
    "# y_test = pd.DataFrame(y_test, columns=[\"Is.Fraudulent\"])\n",
    "# y_train = pd.DataFrame(y_train, columns=[\"Is.Fraudulent\"])\n",
    "\n",
    "\n",
    "# TestData = pd.concat([X_test, y_test], axis=1)  \n",
    "# TestData.to_csv(\"TestData.csv\", index=False)\n",
    "\n",
    "# TrainData = pd.concat([X_train, y_train], axis=1)  \n",
    "# TrainData.to_csv(\"TrainData.csv\", index=False)\n"
   ]
  },
  {
   "cell_type": "code",
   "execution_count": 3,
   "id": "d66198b5-ba22-4547-b7fc-d96828cc480e",
   "metadata": {},
   "outputs": [],
   "source": [
    "class TimeTransformer(BaseEstimator, TransformerMixin):\n",
    "    \n",
    "    def __init__(self):\n",
    "        pass\n",
    "    def fit(self, X, y=None):\n",
    "        return self  \n",
    "    def transform(self, X):\n",
    "        df = X.copy()  \n",
    "        if \"Transaction.Date\" not in df.columns: \n",
    "            raise ValueError(\"What are you doing man?\")\n",
    "        df[\"Transaction.Date\"] = pd.to_datetime(df[\"Transaction.Date\"], format = \"ISO8601\")\n",
    "                    \n",
    "        df[\"day\"] = df[\"Transaction.Date\"].dt.day.astype(float)\n",
    "        \n",
    "        df[\"month\"] = df[\"Transaction.Date\"].dt.month.astype(float)\n",
    "        df[\"month_sin\"] = np.sin(2 * np.pi * df[\"month\"] / 12)\n",
    "        df[\"month_cos\"] = np.cos(2 * np.pi * df[\"month\"] / 12)\n",
    "        df[\"month_angle\"]=np.arctan2(df[\"month_sin\"],df[\"month_cos\"]) \n",
    "        \n",
    "        if \"Transaction.Hour\" in df.columns:\n",
    "            df[\"hour_sin\"] = np.sin(2 * np.pi * df[\"Transaction.Hour\"] / 24)\n",
    "            df[\"hour_cos\"] = np.cos(2 * np.pi * df[\"Transaction.Hour\"] / 24)\n",
    "            df[\"hour_angle\"] = np.arctan2(df[\"hour_sin\"], df[\"hour_cos\"])\n",
    "        else:\n",
    "            raise ValueError(\"What are you doing man? Time\")\n",
    "        \n",
    "        df[\"Transaction.Weekday\"] = df[\"Transaction.Date\"].dt.weekday + 1\n",
    "        df[\"FirstPartMonth\"]=df[\"day\"].apply(lambda x: 1 if x<=12 else 0) \n",
    "            \n",
    "        weekDaysEncoded=pd.get_dummies(df[\"Transaction.Weekday\"], dtype=int) \n",
    "        \n",
    "        result=pd.concat([df[[\"month_angle\", \"hour_angle\",\"FirstPartMonth\"]], weekDaysEncoded], axis=1)\n",
    "        \n",
    "        return result.to_numpy()\n",
    "    "
   ]
  },
  {
   "cell_type": "code",
   "execution_count": 4,
   "id": "821af2e8-0f69-444f-abca-335a0835a98e",
   "metadata": {},
   "outputs": [],
   "source": [
    "class AgeTransfomer(BaseEstimator, TransformerMixin): \n",
    "\n",
    "    def __init__(self): \n",
    "        pass   \n",
    "    def fit(self, X, y=None):\n",
    "        return self  \n",
    "    def transform(self, X):\n",
    "        df=X.copy() \n",
    "        if \"Customer.Age\" not in df.columns: \n",
    "            raise ValueError(\"What are you doing man? Age\")\n",
    "        df[\"Is.Minor\"]=df[\"Customer.Age\"].apply(lambda x : 1 if x<18 else 0) \n",
    "        df[\"Is.Senior\"]=df[\"Customer.Age\"].apply(lambda x : 1 if x>60 else 0) \n",
    "        return pd.concat([df[[\"Is.Minor\"]], df[[\"Is.Senior\"]]], axis = 1).to_numpy()\n",
    "        "
   ]
  },
  {
   "cell_type": "code",
   "execution_count": 5,
   "id": "3ea8e3ae-9117-4a18-b61a-672d678dcf7e",
   "metadata": {},
   "outputs": [],
   "source": [
    "class SexTransformer(BaseEstimator, TransformerMixin): \n",
    "    def __init__(self): \n",
    "         pass    \n",
    "    def fit(self, X, y=None):\n",
    "        return self  \n",
    "    def transform(self, X):\n",
    "        df=X.copy() \n",
    "        if \"sex\" not in df.columns: \n",
    "            raise ValueError(\"What are you doing man? Sex\")\n",
    "        df[\"male\"]=df[\"sex\"].apply(lambda x : 1 if x==\"M\" else 0)\n",
    "        return df[[\"male\"]].to_numpy() "
   ]
  },
  {
   "cell_type": "code",
   "execution_count": 6,
   "id": "948e7582-eb24-4a55-afa2-bb4f2c42e483",
   "metadata": {},
   "outputs": [],
   "source": [
    "class BinaryPassthroughTransformer(BaseEstimator, TransformerMixin): \n",
    "    def __init__(self): \n",
    "        pass   \n",
    "    def fit(self, X, y=None):\n",
    "        return self  \n",
    "    def transform(self, X):  \n",
    "        df=X.copy()\n",
    "        return df[[\"Address.Match\"]].to_numpy() "
   ]
  },
  {
   "cell_type": "code",
   "execution_count": 7,
   "id": "bcd37e12-4ef9-4f0f-80ca-0fedca98eb63",
   "metadata": {},
   "outputs": [],
   "source": [
    "class HighAmountTransformer(BaseEstimator, TransformerMixin): \n",
    "    def __init__(self): \n",
    "        pass   \n",
    "    def fit(self, X, y=None):\n",
    "        return self  \n",
    "    def transform(self, X):\n",
    "        df = X.copy()\n",
    "        if \"Transaction.Amount\" not in df.columns: \n",
    "            raise ValueError(\"What are you doing man? Amount\")\n",
    "        HighAmountInt=df[\"Transaction.Amount\"].quantile(0.95)\n",
    "        df[\"Is.HighAmount\"]=df[\"Transaction.Amount\"].apply(lambda x : 1 if x>=HighAmountInt else 0) \n",
    "        return df[[\"Is.HighAmount\"]].to_numpy() "
   ]
  },
  {
   "cell_type": "code",
   "execution_count": 8,
   "id": "d9644ea2-7ff5-4b83-854e-564f71cd002a",
   "metadata": {},
   "outputs": [],
   "source": [
    "def KCrossData():\n",
    "    df = df=pd.read_csv(\"data/TrainData.csv\")\n",
    "    X = df.drop(columns=[\"Is.Fraudulent\"]).copy()\n",
    "    y = df[\"Is.Fraudulent\"].copy()\n",
    "    return X,y\n",
    "def GetScalePosWeight(y): \n",
    "    return y.sum()/y.shape[0]"
   ]
  },
  {
   "cell_type": "code",
   "execution_count": 9,
   "id": "e393e370-ac6a-4859-84b9-8f996226f248",
   "metadata": {
    "scrolled": true
   },
   "outputs": [],
   "source": [
    "def PipelineModel(model,Numerical=['Transaction.Amount', 'Customer.Age','Account.Age.Days','Quantity'],\n",
    "                    CatBasic=[\"Payment.Method\",'browser','Product.Category','Device.Used','source']):\n",
    "\n",
    "    column_transformer=PipeLineColumnTransformer(Numerical,CatBasic)\n",
    "    selector=CreateFeatureSelector()\n",
    "    classifier_pipeline=Pipeline([\n",
    "    ('preprocessor', column_transformer),  \n",
    "   # ('smote', SMOTE(sampling_strategy=0.1,random_state=42)),\n",
    "   # ('featureselection',selector),\n",
    "    ('model',model)\n",
    "     ])\n",
    "    return classifier_pipeline\n",
    "\n",
    "\n",
    "## TO DISCUSS\n",
    "def CreateFeatureSelector(): \n",
    "    log_clf = LogisticRegression(C=0.1, class_weight=\"balanced\",  penalty='l1', \n",
    "    solver='liblinear', random_state=42)\n",
    "    selector = RFE(estimator=log_clf, n_features_to_select=30, step=1)\n",
    "    return selector\n",
    "\n",
    "    \n",
    "def PipeLineColumnTransformer(Numerical=['Transaction.Amount', 'Customer.Age','Account.Age.Days','Quantity'],\n",
    "                    CatBasic=[\"Payment.Method\",'browser','Product.Category','Device.Used','source']): \n",
    "    column_transformer = ColumnTransformer([\n",
    "        ('time_features', TimeTransformer(),[\"Transaction.Date\",\"Transaction.Hour\"]), \n",
    "        (\"high_amount\",HighAmountTransformer(),[\"Transaction.Amount\"]),\n",
    "        (\"numerical\",StandardScaler(),Numerical), \n",
    "        (\"age\",AgeTransfomer(),[\"Customer.Age\"]),\n",
    "        (\"sex\",SexTransformer(),[\"sex\"]),\n",
    "        (\"AddressMatch\",BinaryPassthroughTransformer(),[\"Address.Match\"]),\n",
    "        (\"catBasic\", OneHotEncoder(drop='if_binary' , handle_unknown='ignore'),CatBasic)], remainder='drop')\n",
    "    return column_transformer\n",
    "\n",
    "\n",
    "\n",
    "def PredictionQualityInfo(y_pred,y_test):\n",
    "    cm = confusion_matrix(y_test, y_pred)\n",
    "    plt.figure(figsize=(5,4))\n",
    "    sns.heatmap(cm, annot=True, fmt='d', cmap='Blues', xticklabels=[\"Not Fraud\", \"Fraud\"], yticklabels=[\"Not Fraud\", \"Fraud\"])\n",
    "    plt.xlabel(\"Predicted\")\n",
    "    plt.ylabel(\"Actual\")\n",
    "    plt.title(\"Confusion Matrix\")\n",
    "    plt.show()\n",
    "    print(\"Classification Report:\\n\", classification_report(y_test, y_pred))\n",
    "\n",
    "    \n",
    "def FitPredictResult(model,X_train,X_test,y_train,y_test):\n",
    "    classifier=PipelineModel(model)\n",
    "    classifier.fit(X_train,y_train) \n",
    "    y_pred=classifier.predict(X_test) \n",
    "    PredictionQualityInfo(y_pred,y_test) "
   ]
  },
  {
   "cell_type": "code",
   "execution_count": 10,
   "id": "6bab87ce-9c9a-4448-ab71-f38af36f0c73",
   "metadata": {},
   "outputs": [
    {
     "data": {
      "text/plain": [
       "array([ 1.57079633, -2.61799388,  0.        ,  0.        ,  0.        ,\n",
       "        0.        ,  0.        ,  0.        ,  1.        ,  0.        ,\n",
       "        0.        , -0.39246666, -1.68561393, -1.05328069, -0.70881097,\n",
       "        0.        ,  0.        ,  1.        ,  1.        ,  1.        ,\n",
       "        0.        ,  0.        ,  0.        ,  1.        ,  0.        ,\n",
       "        0.        ,  0.        ,  0.        ,  0.        ,  0.        ,\n",
       "        0.        ,  1.        ,  0.        ,  1.        ,  0.        ,\n",
       "        0.        ,  1.        ,  0.        ,  0.        ])"
      ]
     },
     "execution_count": 10,
     "metadata": {},
     "output_type": "execute_result"
    }
   ],
   "source": [
    "x,y=KCrossData()\n",
    "clf=PipeLineColumnTransformer() \n",
    "clf.fit(x) \n",
    "r=clf.transform(x) \n",
    "r[1,:] "
   ]
  },
  {
   "cell_type": "code",
   "execution_count": 11,
   "id": "4d454cad-cc8d-4262-8487-ad76c2345fbe",
   "metadata": {},
   "outputs": [],
   "source": [
    "#(147000, 39) After transformation"
   ]
  }
 ],
 "metadata": {
  "kernelspec": {
   "display_name": "Python 3 (ipykernel)",
   "language": "python",
   "name": "python3"
  },
  "language_info": {
   "codemirror_mode": {
    "name": "ipython",
    "version": 3
   },
   "file_extension": ".py",
   "mimetype": "text/x-python",
   "name": "python",
   "nbconvert_exporter": "python",
   "pygments_lexer": "ipython3",
   "version": "3.11.9"
  }
 },
 "nbformat": 4,
 "nbformat_minor": 5
}
