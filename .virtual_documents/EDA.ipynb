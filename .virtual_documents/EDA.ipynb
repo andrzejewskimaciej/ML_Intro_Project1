import pandas as pd 
import seaborn as sns 
import numpy as np 
import matplotlib.pyplot as plt 
import random
from sklearn.model_selection import train_test_split
import warnings
warnings.filterwarnings("ignore")

random.seed(123) 
np.random.seed(123) 





df = pd.read_csv("data/merged_dataset.csv")


df.head()


df.describe()


df.info()





df.isnull().sum()


df.hist(figsize=(15,15))


NUMERIC=["Transaction.Amount",'Customer.Age','Account.Age.Days','Quantity']
CATEGORICAL = [x for x in df.columns if x not in NUMERIC]





CATEGORICAL


sns.histplot(data=df, x="Device.Used", hue="Is.Fraudulent", multiple="dodge") # nothing interesting


sns.histplot(data=df, x="Payment.Method", hue="Is.Fraudulent", multiple="dodge") # nothing interesting


sns.histplot(data=df, x="browser", hue="Is.Fraudulent", multiple="dodge") # might be because chrome most popular?


sns.histplot(data=df, x="Transaction.Hour", hue="Is.Fraudulent", multiple="dodge") # hour seems to matter


sns.histplot(data=df, x="source", hue="Is.Fraudulent", multiple="dodge") # nothing interesting


sns.histplot(data=df, x='sex', hue='Is.Fraudulent', multiple='dodge')


sns.histplot(data=df, x="Product.Category", hue="Is.Fraudulent", multiple="dodge") # nothing interesting








sns.heatmap(df[NUMERIC + ["Is.Fraudulent"]].corr(), annot=True)





sns.scatterplot(df, x="Transaction.Amount", y="Account.Age.Days", hue="Is.Fraudulent")


temp=df.groupby(["Is.Fraudulent"])["Account.Age.Days"].mean() #MOST PREDICIVE FEATURE
tempDf = temp.reset_index()
tempDf.columns = ['Is.Fraudulent', 'Account.Age.Days.Mean']
tempDf





colors=["blue","red"] 
sns.barplot(data=tempDf,y="Account.Age.Days.Mean",x="Is.Fraudulent",palette=colors)
plt.title("Mean Account Age by Fraud Status")





sns.histplot(data=df,x="Transaction.Amount",hue="Is.Fraudulent", multiple="dodge", bins=np.arange(
    0,df["Transaction.Amount"].quantile(0.99),30))





temp=df.groupby(["Is.Fraudulent"])["Transaction.Amount"].median()
tempDf = temp.reset_index()
tempDf.columns = ['Is.Fraudulent', "Transaction.Amount"]
colors=["blue","red"] 
sns.barplot(data=tempDf,y="Transaction.Amount",x="Is.Fraudulent",palette=colors)


sns.histplot(data=df,x="Quantity",hue="Is.Fraudulent",multiple="dodge", discrete=True) #Nothing fancy


sns.histplot(data=df,x="Customer.Age",hue="Is.Fraudulent") #nothing interesting





binary_crosstab = pd.crosstab(df["Address.Match"], df["Is.Fraudulent"]) #matching address

plt.figure(figsize=(6, 5))
sns.heatmap(binary_crosstab, annot=True, cmap="Blues", fmt="d")
plt.show()


binary_crosstab = pd.crosstab(df["Address.Match"], df["Is.Fraudulent"], normalize="index") #???
sns.heatmap(binary_crosstab, annot=True, cmap="Blues", fmt=".2f")


df.columns






