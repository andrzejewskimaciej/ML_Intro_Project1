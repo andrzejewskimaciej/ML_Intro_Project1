{
 "cells": [
  {
   "cell_type": "code",
   "execution_count": 64,
   "id": "cfb28f09-5e44-4f0e-a68c-868cc562c87c",
   "metadata": {},
   "outputs": [],
   "source": [
    "import tensorflow as tf\n",
    "from tensorflow.keras import layers, models, regularizers, Input\n",
    "import keras\n",
    "from tensorflow.keras.metrics import Recall\n",
    "from ColumnTransformers import *"
   ]
  },
  {
   "cell_type": "code",
   "execution_count": 65,
   "id": "55d018cc-ffe4-476e-91e8-43f73ff85de8",
   "metadata": {},
   "outputs": [],
   "source": [
    "def BuildModel(input_shape): \n",
    "    inputs=Input(shape=(input_shape,)) \n",
    "    x=layers.Dense(64,activation='relu')(inputs) \n",
    "    x = layers.Dropout(0.02)(x)\n",
    "    x=layers.Dense(32,activation='relu')(x) \n",
    "    x=layers.Dense(16,activation='relu')(x) \n",
    "    OutputLayer=layers.Dense(1,activation='sigmoid')(x) \n",
    "    \n",
    "    model=models.Model(inputs=inputs,outputs=OutputLayer) \n",
    "    model.compile(optimizer='adam', loss='binary_crossentropy', metrics=['accuracy', Recall()])\n",
    "    return model"
   ]
  },
  {
   "cell_type": "code",
   "execution_count": 66,
   "id": "adf6b012-2587-4c29-b8ee-63fa325a0498",
   "metadata": {},
   "outputs": [],
   "source": [
    "x_train,y_train=getTrainingData() \n",
    "OurTransformer=PipeLineColumnTransformer() \n",
    "OurTransformer.fit(x_train)\n",
    "x_train=OurTransformer.transform(x_train)\n",
    "\n",
    "x_test,y_test=getTestData() \n",
    "OurTransformer.fit(x_test)\n",
    "x_test=OurTransformer.transform(x_test)\n",
    "\n",
    "callbacks_list = [\n",
    "    keras.callbacks.EarlyStopping(\n",
    "        monitor=\"val_accuracy\",\n",
    "        patience=4\n",
    "    )\n",
    "]\n"
   ]
  },
  {
   "cell_type": "code",
   "execution_count": 67,
   "id": "e843510d-6daa-4d75-864d-32d58c87fbe8",
   "metadata": {},
   "outputs": [],
   "source": [
    "BATCH_SIZE = 64\n",
    "AUTOTUNE = tf.data.experimental.AUTOTUNE\n",
    "\n",
    "train_dataset = tf.data.Dataset.from_tensor_slices((x_train, y_train))\n",
    "train_dataset = (\n",
    "    train_dataset.shuffle(buffer_size=1000)\n",
    "    .batch(batch_size=BATCH_SIZE)\n",
    "    .prefetch(buffer_size=AUTOTUNE) \n",
    ")\n",
    "\n",
    "test_dataset = tf.data.Dataset.from_tensor_slices((x_test, y_test))\n",
    "test_dataset = (\n",
    "    test_dataset.shuffle(buffer_size=1000)\n",
    "    .batch(batch_size=BATCH_SIZE)\n",
    "    .prefetch(buffer_size=AUTOTUNE) \n",
    ")"
   ]
  },
  {
   "cell_type": "code",
   "execution_count": 68,
   "id": "d3d8cb2f-be87-4bf1-b740-e238df340fbf",
   "metadata": {},
   "outputs": [
    {
     "name": "stdout",
     "output_type": "stream",
     "text": [
      "Epoch 1/20\n",
      "\u001b[1m2297/2297\u001b[0m \u001b[32m━━━━━━━━━━━━━━━━━━━━\u001b[0m\u001b[37m\u001b[0m \u001b[1m5s\u001b[0m 2ms/step - accuracy: 0.9285 - loss: 0.2347 - recall_10: 0.1521 - val_accuracy: 0.9507 - val_loss: 0.1857 - val_recall_10: 0.3906\n",
      "Epoch 2/20\n",
      "\u001b[1m2297/2297\u001b[0m \u001b[32m━━━━━━━━━━━━━━━━━━━━\u001b[0m\u001b[37m\u001b[0m \u001b[1m4s\u001b[0m 2ms/step - accuracy: 0.9529 - loss: 0.1788 - recall_10: 0.3969 - val_accuracy: 0.9512 - val_loss: 0.1829 - val_recall_10: 0.3948\n",
      "Epoch 3/20\n",
      "\u001b[1m2297/2297\u001b[0m \u001b[32m━━━━━━━━━━━━━━━━━━━━\u001b[0m\u001b[37m\u001b[0m \u001b[1m4s\u001b[0m 2ms/step - accuracy: 0.9538 - loss: 0.1760 - recall_10: 0.4013 - val_accuracy: 0.9524 - val_loss: 0.1793 - val_recall_10: 0.3912\n",
      "Epoch 4/20\n",
      "\u001b[1m2297/2297\u001b[0m \u001b[32m━━━━━━━━━━━━━━━━━━━━\u001b[0m\u001b[37m\u001b[0m \u001b[1m4s\u001b[0m 2ms/step - accuracy: 0.9539 - loss: 0.1742 - recall_10: 0.4027 - val_accuracy: 0.9526 - val_loss: 0.1790 - val_recall_10: 0.3895\n",
      "Epoch 5/20\n",
      "\u001b[1m2297/2297\u001b[0m \u001b[32m━━━━━━━━━━━━━━━━━━━━\u001b[0m\u001b[37m\u001b[0m \u001b[1m4s\u001b[0m 2ms/step - accuracy: 0.9541 - loss: 0.1729 - recall_10: 0.4036 - val_accuracy: 0.9530 - val_loss: 0.1777 - val_recall_10: 0.3945\n",
      "Epoch 6/20\n",
      "\u001b[1m2297/2297\u001b[0m \u001b[32m━━━━━━━━━━━━━━━━━━━━\u001b[0m\u001b[37m\u001b[0m \u001b[1m4s\u001b[0m 2ms/step - accuracy: 0.9545 - loss: 0.1719 - recall_10: 0.4075 - val_accuracy: 0.9527 - val_loss: 0.1788 - val_recall_10: 0.4000\n",
      "Epoch 7/20\n",
      "\u001b[1m2297/2297\u001b[0m \u001b[32m━━━━━━━━━━━━━━━━━━━━\u001b[0m\u001b[37m\u001b[0m \u001b[1m4s\u001b[0m 2ms/step - accuracy: 0.9545 - loss: 0.1714 - recall_10: 0.4068 - val_accuracy: 0.9521 - val_loss: 0.1802 - val_recall_10: 0.4071\n",
      "Epoch 8/20\n",
      "\u001b[1m2297/2297\u001b[0m \u001b[32m━━━━━━━━━━━━━━━━━━━━\u001b[0m\u001b[37m\u001b[0m \u001b[1m4s\u001b[0m 2ms/step - accuracy: 0.9545 - loss: 0.1705 - recall_10: 0.4085 - val_accuracy: 0.9533 - val_loss: 0.1774 - val_recall_10: 0.3923\n",
      "Epoch 9/20\n",
      "\u001b[1m2297/2297\u001b[0m \u001b[32m━━━━━━━━━━━━━━━━━━━━\u001b[0m\u001b[37m\u001b[0m \u001b[1m4s\u001b[0m 2ms/step - accuracy: 0.9545 - loss: 0.1696 - recall_10: 0.4050 - val_accuracy: 0.9531 - val_loss: 0.1773 - val_recall_10: 0.3930\n",
      "Epoch 10/20\n",
      "\u001b[1m2297/2297\u001b[0m \u001b[32m━━━━━━━━━━━━━━━━━━━━\u001b[0m\u001b[37m\u001b[0m \u001b[1m4s\u001b[0m 2ms/step - accuracy: 0.9549 - loss: 0.1692 - recall_10: 0.4096 - val_accuracy: 0.9530 - val_loss: 0.1786 - val_recall_10: 0.3950\n",
      "Epoch 11/20\n",
      "\u001b[1m2297/2297\u001b[0m \u001b[32m━━━━━━━━━━━━━━━━━━━━\u001b[0m\u001b[37m\u001b[0m \u001b[1m4s\u001b[0m 2ms/step - accuracy: 0.9549 - loss: 0.1683 - recall_10: 0.4098 - val_accuracy: 0.9526 - val_loss: 0.1791 - val_recall_10: 0.4025\n",
      "Epoch 12/20\n",
      "\u001b[1m2297/2297\u001b[0m \u001b[32m━━━━━━━━━━━━━━━━━━━━\u001b[0m\u001b[37m\u001b[0m \u001b[1m4s\u001b[0m 2ms/step - accuracy: 0.9550 - loss: 0.1681 - recall_10: 0.4101 - val_accuracy: 0.9530 - val_loss: 0.1771 - val_recall_10: 0.3945\n"
     ]
    }
   ],
   "source": [
    "Model=BuildModel(x.shape[1]) \n",
    "history=Model.fit(train_dataset,\n",
    "            epochs=20,\n",
    "             validation_data=test_dataset,callbacks=callbacks_list)\n"
   ]
  },
  {
   "cell_type": "code",
   "execution_count": null,
   "id": "24397927-46be-401b-b90e-24e49ddab2fc",
   "metadata": {},
   "outputs": [],
   "source": []
  }
 ],
 "metadata": {
  "kernelspec": {
   "display_name": "Python 3 (ipykernel)",
   "language": "python",
   "name": "python3"
  },
  "language_info": {
   "codemirror_mode": {
    "name": "ipython",
    "version": 3
   },
   "file_extension": ".py",
   "mimetype": "text/x-python",
   "name": "python",
   "nbconvert_exporter": "python",
   "pygments_lexer": "ipython3",
   "version": "3.11.9"
  }
 },
 "nbformat": 4,
 "nbformat_minor": 5
}
