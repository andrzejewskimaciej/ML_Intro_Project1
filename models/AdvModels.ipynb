{
 "cells": [
  {
   "cell_type": "code",
   "execution_count": 1,
   "id": "ba1f9b42-c61b-4e30-8443-1bd126d2351e",
   "metadata": {
    "scrolled": true
   },
   "outputs": [],
   "source": [
    "import nbimporter\n",
    "from ColumnTransformers import *\n",
    "from lightgbm import LGBMClassifier\n",
    "from sklearn.pipeline import Pipeline\n",
    "from sklearn.model_selection import GridSearchCV\n",
    "from xgboost import XGBClassifier\n",
    "from sklearn.ensemble import AdaBoostClassifier\n",
    "from sklearn.model_selection import train_test_split\n",
    "import joblib\n",
    "from sklearn.model_selection import ParameterGrid\n",
    "from sklearn.metrics import roc_auc_score\n",
    "import json "
   ]
  },
  {
   "cell_type": "code",
   "execution_count": 2,
   "id": "eebb8187-2fee-4cc0-ad8a-5826ab8b2789",
   "metadata": {},
   "outputs": [],
   "source": [
    "def XgboostSearch(scale_pos_weight,X,y,model__early_stopping=15): \n",
    "    param_grid_xgb = {\n",
    "        'n_estimators': [100, 300,500],  \n",
    "        'learning_rate': [0.001,0.01],  \n",
    "        'max_depth': [2,3,4], \n",
    "        'subsample': [0.7, 1.0],  \n",
    "        'colsample_bytree': [0.6, 1.0],  \n",
    "        'gamma': [0, 0.1, 0.5 ], \n",
    "        'reg_lambda': [0,1, 4], \n",
    "        'scale_pos_weight':[scale_pos_weight], # weight = 1 if negstive else wegiht=scale_pos_weight\n",
    "        }  \n",
    "    grid_search_XgBoost = GridSearchgGradient(XGBClassifier(eval_metric='auc',random_state=42, verbosity=0,\n",
    "                early_stopping_rounds=model__early_stopping, n_jobs=-1),param_grid_xgb,X,y)\n",
    "    return grid_search_XgBoost\n",
    "\n",
    "\n",
    "def LightgbmSearch(X,y,model__early_stopping=15):\n",
    "    param_grid_lgb = {\n",
    "        'n_estimators': [100, 300, 500],\n",
    "        'learning_rate': [0.001, 0.01],\n",
    "        'max_depth': [2, 3, 4],\n",
    "        'subsample': [0.7, 1.0],\n",
    "        'colsample_bytree': [0.6, 1.0],\n",
    "        'min_split_gain': [0, 0.1, 0.5],   # similar to gamma from XGB\n",
    "        'reg_lambda': [0, 1, 4], \n",
    "        'is_unbalance':[True] }\n",
    "\n",
    "    grid_search_LightGBM = GridSearchgGradient(LGBMClassifier(eval_metric='auc',random_state=42 , \n",
    "                                                             early_stopping_rounds=model__early_stopping, \n",
    "                                                             n_jobs=-1,verbosity=0),param_grid_lgb,X,y)\n",
    "    return grid_search_LightGBM\n",
    "\n",
    "def AdaSearch(ModelPipeline) : \n",
    "    param_grid_ada = {\n",
    "    'model__n_estimators': [100,200], \n",
    "    'model__learning_rate': [0.6,1,2],  # before amount of say\n",
    "    'model__estimator': [DecisionTreeClassifier(max_depth=2), \n",
    "                          DecisionTreeClassifier(max_depth=3),\n",
    "                          DecisionTreeClassifier(max_depth=5)]\n",
    "    }\n",
    "    grid_search_ada = GridSearchCV(ModelPipeline, param_grid_ada, cv=5, scoring='roc_auc', n_jobs=3)\n",
    "    return grid_search_ada"
   ]
  },
  {
   "cell_type": "code",
   "execution_count": 3,
   "id": "3c811393-fb6a-4c7c-91c6-ba223d703956",
   "metadata": {},
   "outputs": [],
   "source": [
    "def kfold_split_np(X, y, n_splits=5, shuffle=True, random_state=42):\n",
    "    # Create copies to avoid modifying original arrays\n",
    "    X_copy = X.copy()\n",
    "    y_copy = y.copy()\n",
    "    n_samples = X_copy.shape[0]\n",
    " \n",
    "    indices = np.arange(n_samples)\n",
    "  \n",
    "    if shuffle:\n",
    "        rng = np.random.default_rng(seed=random_state)\n",
    "        rng.shuffle(indices)\n",
    "\n",
    "    fold_sizes = np.full(n_splits, n_samples // n_splits, dtype=int)\n",
    "    fold_sizes[:n_samples % n_splits] += 1\n",
    "    \n",
    "    splits = []\n",
    "    current = 0\n",
    "    for fold_size in fold_sizes:\n",
    "        start = current\n",
    "        stop = current + fold_size\n",
    "        test_indices = indices[start:stop]\n",
    "        train_indices = np.concatenate((indices[:start], indices[stop:]))\n",
    "     \n",
    "        X_train, X_test = X_copy[train_indices], X_copy[test_indices]\n",
    "        y_train, y_test = y_copy[train_indices], y_copy[test_indices]\n",
    "        \n",
    "        splits.append((X_train, X_test, y_train, y_test))\n",
    "        current = stop\n",
    "        \n",
    "    return splits\n"
   ]
  },
  {
   "cell_type": "code",
   "execution_count": 4,
   "id": "d814dc6a-e78e-4610-afbc-0bd625b22be2",
   "metadata": {},
   "outputs": [],
   "source": [
    "def GridSearchgGradient(Model,params,df_X,y, n_splits=5):\n",
    "    BestModelParams=None \n",
    "    BestAucScore=float(\"-inf\")\n",
    "    Lr=PipeLineGradient() \n",
    "    Lr.fit(df_X,y) \n",
    "    X=Lr.transform(df_X) \n",
    "    #print(type(X)) \n",
    "    for param in  list(ParameterGrid(params)): \n",
    "        Model.set_params(**param)\n",
    "        SplitMatrix=kfold_split_np(X,y, n_splits)\n",
    "        aucVector=np.zeros(n_splits)\n",
    "        counter=0\n",
    "        for split in SplitMatrix:\n",
    "            X_train, X_test, y_train, y_test=split[0],split[1],split[2],split[3]\n",
    "            if Model.__class__.__name__==\"XGBClassifier\":\n",
    "                Model.fit(X_train,y_train,eval_set=[(X_test, y_test)],verbose=False) \n",
    "            else: \n",
    "                Model.fit(X_train,y_train,eval_set=[(X_test, y_test)])\n",
    "            print(\"123\")\n",
    "            y_proba = Model.predict_proba(X_test)[:, 1]\n",
    "            auc = roc_auc_score(y_test, y_proba)\n",
    "            aucVector[counter]=auc \n",
    "            counter+=1\n",
    "            \n",
    "        if BestAucScore<np.mean(aucVector):\n",
    "            BestAucScore=auc\n",
    "            BestModel=param\n",
    "    return BestAucScore,BestModel"
   ]
  },
  {
   "cell_type": "code",
   "execution_count": null,
   "id": "bccecee0-062d-4bb4-916c-543424b3edf4",
   "metadata": {},
   "outputs": [
    {
     "name": "stdout",
     "output_type": "stream",
     "text": [
      "123\n",
      "123\n",
      "123\n",
      "123\n",
      "123\n",
      "123\n",
      "123\n",
      "123\n",
      "123\n",
      "123\n",
      "123\n",
      "123\n"
     ]
    },
    {
     "name": "stderr",
     "output_type": "stream",
     "text": [
      "Exception ignored on calling ctypes callback function: <bound method DataIter._next_wrapper of <xgboost.data.SingleBatchInternalIter object at 0x000001AA83EB94D0>>\n",
      "Traceback (most recent call last):\n",
      "  File \"C:\\Users\\Ricardo\\Programming\\PycharmProjects\\ML_Intro-Projects\\venv\\Lib\\site-packages\\xgboost\\core.py\", line 585, in _next_wrapper\n",
      "    def _next_wrapper(self, this: None) -> int:  # pylint: disable=unused-argument\n",
      "\n",
      "KeyboardInterrupt: \n"
     ]
    },
    {
     "name": "stdout",
     "output_type": "stream",
     "text": [
      "123\n"
     ]
    }
   ],
   "source": [
    "X,y=KCrossData() \n",
    "BestAucScore,BestModel=XgboostSearch(GetScalePosWeight(y),X,y)\n",
    "# with open(\"models/xgb_params.json\", \"w\") as f:\n",
    "#     json.dump(BestModel, f, indent=4)"
   ]
  },
  {
   "cell_type": "code",
   "execution_count": null,
   "id": "55e878ef-f1ef-4dc3-95f5-b42b3a9eea47",
   "metadata": {},
   "outputs": [],
   "source": [
    "#BestAucScore,BestModel=LightgbmSearch(X,y)"
   ]
  },
  {
   "cell_type": "code",
   "execution_count": null,
   "id": "1d6d009a-3c01-4d8c-b279-f19d5dffc243",
   "metadata": {},
   "outputs": [],
   "source": [
    "import os\n",
    "os.getcwd()"
   ]
  },
  {
   "cell_type": "code",
   "execution_count": null,
   "id": "01076894-ae59-4164-8d47-dd4f008ee80c",
   "metadata": {},
   "outputs": [],
   "source": []
  }
 ],
 "metadata": {
  "kernelspec": {
   "display_name": "Python 3 (ipykernel)",
   "language": "python",
   "name": "python3"
  },
  "language_info": {
   "codemirror_mode": {
    "name": "ipython",
    "version": 3
   },
   "file_extension": ".py",
   "mimetype": "text/x-python",
   "name": "python",
   "nbconvert_exporter": "python",
   "pygments_lexer": "ipython3",
   "version": "3.11.9"
  }
 },
 "nbformat": 4,
 "nbformat_minor": 5
}
