{
 "cells": [
  {
   "cell_type": "markdown",
   "id": "897095d1-f2f9-4669-a950-dec07350e60c",
   "metadata": {},
   "source": [
    "## FINAL MODEL "
   ]
  },
  {
   "cell_type": "markdown",
   "id": "c618ebf1-1599-44b7-a6d2-9259e6d8f63b",
   "metadata": {},
   "source": [
    "Polaczenie LightBgm z Catboost za pomoca soft VoteClassifiera"
   ]
  },
  {
   "cell_type": "code",
   "execution_count": 6,
   "id": "098c6839-8d99-43c5-a1f2-ea3e7d218d75",
   "metadata": {},
   "outputs": [],
   "source": [
    "from ColumnTransformers import * \n",
    "from AdvModels import *"
   ]
  },
  {
   "cell_type": "code",
   "execution_count": 7,
   "id": "4a68df7b-3bdc-4876-9508-596cf98ea841",
   "metadata": {},
   "outputs": [],
   "source": [
    "\n",
    "class CatBoostWithCatFeatures(CatBoostClassifier):\n",
    "    def __init__(self, **kwargs):\n",
    "        super().__init__(**kwargs)\n",
    "        self.cat_features_indices = None\n",
    "    \n",
    "    def fit(self, X, y=None, **fit_params):\n",
    "        X_mod=self._preprocess(X)\n",
    "        X_mod[:, self.cat_features_indices] = X_mod[:, self.cat_features_indices].astype(str)\n",
    "        \n",
    "        super().fit(X_mod, y, cat_features=self.cat_features_indices, **fit_params)\n",
    "        return self\n",
    "\n",
    "    def _preprocess(self, X):\n",
    "        if self.cat_features_indices is None:\n",
    "            self.cat_features_indices = GetCategorical(X)\n",
    "        X_mod = X.copy()\n",
    "        X_mod[:, self.cat_features_indices] = X_mod[:, self.cat_features_indices].astype(str)\n",
    "        return X_mod\n",
    "\n",
    "    def predict(self, X, **kwargs):\n",
    "        X_mod = self._preprocess(X)\n",
    "        return super().predict(X_mod, **kwargs)\n",
    "\n",
    "    def predict_proba(self, X, **kwargs):\n",
    "        X_mod = self._preprocess(X)\n",
    "        return super().predict_proba(X_mod, **kwargs)\n",
    "  \n",
    "def CatBoostPipeline(X):\n",
    "    catboost_pipeline = Pipeline([\n",
    "    (\"preprocessor\", CatBoostTransformer(\n",
    "        Numerical=['Transaction.Amount', 'Customer.Age','Account.Age.Days','Quantity']\n",
    "        )),\n",
    "    (\"model\", CatBoostWithCatFeatures(\n",
    "        grow_policy=\"SymmetricTree\",\n",
    "        rsm=0.8,\n",
    "        depth=9,\n",
    "        auto_class_weights=\"Balanced\",\n",
    "        learning_rate=0.01,\n",
    "        l2_leaf_reg=2,\n",
    "        iterations=1500,\n",
    "        border_count=256,\n",
    "        verbose=0 ))])\n",
    "    return catboost_pipeline\n",
    "\n",
    "def LGBMClassifierPipeline(): \n",
    "    model=LGBMClassifier(\n",
    "        colsample_bytree=0.8,\n",
    "        is_unbalance=True,\n",
    "        learning_rate=0.01,\n",
    "        max_depth=2,\n",
    "        min_split_gain=0.1,\n",
    "        n_estimators=600,\n",
    "        reg_lambda=1,\n",
    "        subsample=1,\n",
    "        verbosity=-1\n",
    "    )\n",
    "    result=PipelineModel(model,n=18)\n",
    "    return result\n",
    "\n",
    "def create_voting_classifier(X):\n",
    "    \n",
    "    catboost_pipeline = CatBoostPipeline(X)\n",
    "    lgbm_pipeline = LGBMClassifierPipeline() \n",
    "    print(type(lgbm_pipeline))\n",
    "    voting_ensemble = VotingClassifier(\n",
    "        estimators=[\n",
    "            ('catboost', catboost_pipeline),\n",
    "            ('lgbm',     lgbm_pipeline)\n",
    "        ],\n",
    "        voting='soft'\n",
    "    )\n",
    "    return voting_ensemble"
   ]
  },
  {
   "cell_type": "code",
   "execution_count": 8,
   "id": "c1837295-ae63-447a-b971-0ccc5681539b",
   "metadata": {},
   "outputs": [],
   "source": [
    "def lgbmImportanceGetter(pipeline): \n",
    "    \n",
    "    feature_names = pipeline.named_steps[\"preprocessor\"].get_feature_names_out()\n",
    "\n",
    "    selector = pipeline.named_steps[\"featureselection\"]\n",
    "    support_mask = selector.support_\n",
    "    selected_features = feature_names[support_mask]\n",
    "\n",
    "    model = pipeline.named_steps[\"model\"]\n",
    "    importances = model.feature_importances_  \n",
    "    feature_importance_df = pd.DataFrame({\n",
    "    \"Feature\": selected_features,\n",
    "    \"Importance\": importances\n",
    "    }).sort_values(by=\"Importance\", ascending=False)\n",
    "    return feature_importance_df\n",
    "\n",
    "def catImportanceGetter(pipeline): \n",
    "    model = pipeline.named_steps[\"model\"]\n",
    "    importances = model.feature_importances_\n",
    "    preprocessor = pipeline.named_steps[\"preprocessor\"]\n",
    "    feature_names = preprocessor.get_feature_names_out()\n",
    "    feature_importance_df = pd.DataFrame({\n",
    "    \"Feature\": feature_names,\n",
    "    \"Importance\": importances\n",
    "    }).sort_values(by=\"Importance\", ascending=False)\n",
    "    return  feature_importance_df\n",
    "    \n",
    "def FinalImportance(X_train,y_train): \n",
    "    Lgbm=LGBMClassifierPipeline() \n",
    "    Cat=CatBoostPipeline(X_train) \n",
    "    Lgbm.fit(X_train,y_train)\n",
    "    Cat.fit(X_train,y_train) \n",
    "    importanceslgbm=lgbmImportanceGetter(Lgbm) \n",
    "    print(importanceslgbm) \n",
    "    importancesCat=catImportanceGetter(Cat)\n",
    "    print(importancesCat)\n",
    "    return importanceslgbm,importancesCat"
   ]
  },
  {
   "cell_type": "code",
   "execution_count": 9,
   "id": "a14a9192-5dd6-4e6f-8461-acb0934c2ffd",
   "metadata": {},
   "outputs": [],
   "source": [
    "def FinalModel(X_train,X_test,y_train,y_test,threshold=0.5): \n",
    "    finalModel=create_voting_classifier(X_train)\n",
    "    set_config(display='diagram')\n",
    "    display(finalModel)\n",
    "    finalModel.fit(X_train,y_train)\n",
    "    y_scores=finalModel.predict_proba(X_test)[:, 1]  \n",
    "    fpr, tpr, thresholds = roc_curve(y_test, y_scores)\n",
    "    roc_auc = auc(fpr, tpr)\n",
    "    aucPlot(fpr, tpr,roc_auc)\n",
    "    y_pred = (np.array(y_scores) > threshold).astype(int)\n",
    "    PredictionQualityInfo(y_pred,y_test)\n",
    "    print(f\"AUC: {roc_auc}\")\n",
    "    return finalModel"
   ]
  },
  {
   "cell_type": "code",
   "execution_count": 10,
   "id": "e3266ec6-9187-443b-a636-85eef2a05d09",
   "metadata": {
    "scrolled": true
   },
   "outputs": [
    {
     "ename": "FileNotFoundError",
     "evalue": "[Errno 2] No such file or directory: '../data/TestData.csv'",
     "output_type": "error",
     "traceback": [
      "\u001b[0;31m---------------------------------------------------------------------------\u001b[0m",
      "\u001b[0;31mFileNotFoundError\u001b[0m                         Traceback (most recent call last)",
      "Cell \u001b[0;32mIn[10], line 1\u001b[0m\n\u001b[0;32m----> 1\u001b[0m X_train,y_train\u001b[38;5;241m=\u001b[39m\u001b[43mgetTestData\u001b[49m\u001b[43m(\u001b[49m\u001b[43m)\u001b[49m\n\u001b[1;32m      2\u001b[0m X_test,y_test\u001b[38;5;241m=\u001b[39mgetTrainingData()\n\u001b[1;32m      3\u001b[0m Model\u001b[38;5;241m=\u001b[39mFinalModel(X_train,X_test,y_train,y_test)\n",
      "File \u001b[0;32m~/Programming/PycharmProjects/UNI/UczenieMaszynowe/ML_Intro-Projects/models/FinalModel/ColumnTransformers.py:187\u001b[0m, in \u001b[0;36mgetTestData\u001b[0;34m()\u001b[0m\n\u001b[1;32m    186\u001b[0m \u001b[38;5;28;01mdef\u001b[39;00m\u001b[38;5;250m \u001b[39m\u001b[38;5;21mgetTestData\u001b[39m():\n\u001b[0;32m--> 187\u001b[0m     df\u001b[38;5;241m=\u001b[39m\u001b[43mpd\u001b[49m\u001b[38;5;241;43m.\u001b[39;49m\u001b[43mread_csv\u001b[49m\u001b[43m(\u001b[49m\u001b[38;5;124;43m\"\u001b[39;49m\u001b[38;5;124;43m../data/TestData.csv\u001b[39;49m\u001b[38;5;124;43m\"\u001b[39;49m\u001b[43m)\u001b[49m\n\u001b[1;32m    188\u001b[0m     X \u001b[38;5;241m=\u001b[39m df\u001b[38;5;241m.\u001b[39mdrop(columns\u001b[38;5;241m=\u001b[39m[\u001b[38;5;124m\"\u001b[39m\u001b[38;5;124mIs.Fraudulent\u001b[39m\u001b[38;5;124m\"\u001b[39m])\u001b[38;5;241m.\u001b[39mcopy()\n\u001b[1;32m    189\u001b[0m     y \u001b[38;5;241m=\u001b[39m df[\u001b[38;5;124m\"\u001b[39m\u001b[38;5;124mIs.Fraudulent\u001b[39m\u001b[38;5;124m\"\u001b[39m]\u001b[38;5;241m.\u001b[39mcopy()\n",
      "File \u001b[0;32m~/Programming/PycharmProjects/UNI/UczenieMaszynowe/.venv/lib/python3.10/site-packages/pandas/io/parsers/readers.py:1026\u001b[0m, in \u001b[0;36mread_csv\u001b[0;34m(filepath_or_buffer, sep, delimiter, header, names, index_col, usecols, dtype, engine, converters, true_values, false_values, skipinitialspace, skiprows, skipfooter, nrows, na_values, keep_default_na, na_filter, verbose, skip_blank_lines, parse_dates, infer_datetime_format, keep_date_col, date_parser, date_format, dayfirst, cache_dates, iterator, chunksize, compression, thousands, decimal, lineterminator, quotechar, quoting, doublequote, escapechar, comment, encoding, encoding_errors, dialect, on_bad_lines, delim_whitespace, low_memory, memory_map, float_precision, storage_options, dtype_backend)\u001b[0m\n\u001b[1;32m   1013\u001b[0m kwds_defaults \u001b[38;5;241m=\u001b[39m _refine_defaults_read(\n\u001b[1;32m   1014\u001b[0m     dialect,\n\u001b[1;32m   1015\u001b[0m     delimiter,\n\u001b[0;32m   (...)\u001b[0m\n\u001b[1;32m   1022\u001b[0m     dtype_backend\u001b[38;5;241m=\u001b[39mdtype_backend,\n\u001b[1;32m   1023\u001b[0m )\n\u001b[1;32m   1024\u001b[0m kwds\u001b[38;5;241m.\u001b[39mupdate(kwds_defaults)\n\u001b[0;32m-> 1026\u001b[0m \u001b[38;5;28;01mreturn\u001b[39;00m \u001b[43m_read\u001b[49m\u001b[43m(\u001b[49m\u001b[43mfilepath_or_buffer\u001b[49m\u001b[43m,\u001b[49m\u001b[43m \u001b[49m\u001b[43mkwds\u001b[49m\u001b[43m)\u001b[49m\n",
      "File \u001b[0;32m~/Programming/PycharmProjects/UNI/UczenieMaszynowe/.venv/lib/python3.10/site-packages/pandas/io/parsers/readers.py:620\u001b[0m, in \u001b[0;36m_read\u001b[0;34m(filepath_or_buffer, kwds)\u001b[0m\n\u001b[1;32m    617\u001b[0m _validate_names(kwds\u001b[38;5;241m.\u001b[39mget(\u001b[38;5;124m\"\u001b[39m\u001b[38;5;124mnames\u001b[39m\u001b[38;5;124m\"\u001b[39m, \u001b[38;5;28;01mNone\u001b[39;00m))\n\u001b[1;32m    619\u001b[0m \u001b[38;5;66;03m# Create the parser.\u001b[39;00m\n\u001b[0;32m--> 620\u001b[0m parser \u001b[38;5;241m=\u001b[39m \u001b[43mTextFileReader\u001b[49m\u001b[43m(\u001b[49m\u001b[43mfilepath_or_buffer\u001b[49m\u001b[43m,\u001b[49m\u001b[43m \u001b[49m\u001b[38;5;241;43m*\u001b[39;49m\u001b[38;5;241;43m*\u001b[39;49m\u001b[43mkwds\u001b[49m\u001b[43m)\u001b[49m\n\u001b[1;32m    622\u001b[0m \u001b[38;5;28;01mif\u001b[39;00m chunksize \u001b[38;5;129;01mor\u001b[39;00m iterator:\n\u001b[1;32m    623\u001b[0m     \u001b[38;5;28;01mreturn\u001b[39;00m parser\n",
      "File \u001b[0;32m~/Programming/PycharmProjects/UNI/UczenieMaszynowe/.venv/lib/python3.10/site-packages/pandas/io/parsers/readers.py:1620\u001b[0m, in \u001b[0;36mTextFileReader.__init__\u001b[0;34m(self, f, engine, **kwds)\u001b[0m\n\u001b[1;32m   1617\u001b[0m     \u001b[38;5;28mself\u001b[39m\u001b[38;5;241m.\u001b[39moptions[\u001b[38;5;124m\"\u001b[39m\u001b[38;5;124mhas_index_names\u001b[39m\u001b[38;5;124m\"\u001b[39m] \u001b[38;5;241m=\u001b[39m kwds[\u001b[38;5;124m\"\u001b[39m\u001b[38;5;124mhas_index_names\u001b[39m\u001b[38;5;124m\"\u001b[39m]\n\u001b[1;32m   1619\u001b[0m \u001b[38;5;28mself\u001b[39m\u001b[38;5;241m.\u001b[39mhandles: IOHandles \u001b[38;5;241m|\u001b[39m \u001b[38;5;28;01mNone\u001b[39;00m \u001b[38;5;241m=\u001b[39m \u001b[38;5;28;01mNone\u001b[39;00m\n\u001b[0;32m-> 1620\u001b[0m \u001b[38;5;28mself\u001b[39m\u001b[38;5;241m.\u001b[39m_engine \u001b[38;5;241m=\u001b[39m \u001b[38;5;28;43mself\u001b[39;49m\u001b[38;5;241;43m.\u001b[39;49m\u001b[43m_make_engine\u001b[49m\u001b[43m(\u001b[49m\u001b[43mf\u001b[49m\u001b[43m,\u001b[49m\u001b[43m \u001b[49m\u001b[38;5;28;43mself\u001b[39;49m\u001b[38;5;241;43m.\u001b[39;49m\u001b[43mengine\u001b[49m\u001b[43m)\u001b[49m\n",
      "File \u001b[0;32m~/Programming/PycharmProjects/UNI/UczenieMaszynowe/.venv/lib/python3.10/site-packages/pandas/io/parsers/readers.py:1880\u001b[0m, in \u001b[0;36mTextFileReader._make_engine\u001b[0;34m(self, f, engine)\u001b[0m\n\u001b[1;32m   1878\u001b[0m     \u001b[38;5;28;01mif\u001b[39;00m \u001b[38;5;124m\"\u001b[39m\u001b[38;5;124mb\u001b[39m\u001b[38;5;124m\"\u001b[39m \u001b[38;5;129;01mnot\u001b[39;00m \u001b[38;5;129;01min\u001b[39;00m mode:\n\u001b[1;32m   1879\u001b[0m         mode \u001b[38;5;241m+\u001b[39m\u001b[38;5;241m=\u001b[39m \u001b[38;5;124m\"\u001b[39m\u001b[38;5;124mb\u001b[39m\u001b[38;5;124m\"\u001b[39m\n\u001b[0;32m-> 1880\u001b[0m \u001b[38;5;28mself\u001b[39m\u001b[38;5;241m.\u001b[39mhandles \u001b[38;5;241m=\u001b[39m \u001b[43mget_handle\u001b[49m\u001b[43m(\u001b[49m\n\u001b[1;32m   1881\u001b[0m \u001b[43m    \u001b[49m\u001b[43mf\u001b[49m\u001b[43m,\u001b[49m\n\u001b[1;32m   1882\u001b[0m \u001b[43m    \u001b[49m\u001b[43mmode\u001b[49m\u001b[43m,\u001b[49m\n\u001b[1;32m   1883\u001b[0m \u001b[43m    \u001b[49m\u001b[43mencoding\u001b[49m\u001b[38;5;241;43m=\u001b[39;49m\u001b[38;5;28;43mself\u001b[39;49m\u001b[38;5;241;43m.\u001b[39;49m\u001b[43moptions\u001b[49m\u001b[38;5;241;43m.\u001b[39;49m\u001b[43mget\u001b[49m\u001b[43m(\u001b[49m\u001b[38;5;124;43m\"\u001b[39;49m\u001b[38;5;124;43mencoding\u001b[39;49m\u001b[38;5;124;43m\"\u001b[39;49m\u001b[43m,\u001b[49m\u001b[43m \u001b[49m\u001b[38;5;28;43;01mNone\u001b[39;49;00m\u001b[43m)\u001b[49m\u001b[43m,\u001b[49m\n\u001b[1;32m   1884\u001b[0m \u001b[43m    \u001b[49m\u001b[43mcompression\u001b[49m\u001b[38;5;241;43m=\u001b[39;49m\u001b[38;5;28;43mself\u001b[39;49m\u001b[38;5;241;43m.\u001b[39;49m\u001b[43moptions\u001b[49m\u001b[38;5;241;43m.\u001b[39;49m\u001b[43mget\u001b[49m\u001b[43m(\u001b[49m\u001b[38;5;124;43m\"\u001b[39;49m\u001b[38;5;124;43mcompression\u001b[39;49m\u001b[38;5;124;43m\"\u001b[39;49m\u001b[43m,\u001b[49m\u001b[43m \u001b[49m\u001b[38;5;28;43;01mNone\u001b[39;49;00m\u001b[43m)\u001b[49m\u001b[43m,\u001b[49m\n\u001b[1;32m   1885\u001b[0m \u001b[43m    \u001b[49m\u001b[43mmemory_map\u001b[49m\u001b[38;5;241;43m=\u001b[39;49m\u001b[38;5;28;43mself\u001b[39;49m\u001b[38;5;241;43m.\u001b[39;49m\u001b[43moptions\u001b[49m\u001b[38;5;241;43m.\u001b[39;49m\u001b[43mget\u001b[49m\u001b[43m(\u001b[49m\u001b[38;5;124;43m\"\u001b[39;49m\u001b[38;5;124;43mmemory_map\u001b[39;49m\u001b[38;5;124;43m\"\u001b[39;49m\u001b[43m,\u001b[49m\u001b[43m \u001b[49m\u001b[38;5;28;43;01mFalse\u001b[39;49;00m\u001b[43m)\u001b[49m\u001b[43m,\u001b[49m\n\u001b[1;32m   1886\u001b[0m \u001b[43m    \u001b[49m\u001b[43mis_text\u001b[49m\u001b[38;5;241;43m=\u001b[39;49m\u001b[43mis_text\u001b[49m\u001b[43m,\u001b[49m\n\u001b[1;32m   1887\u001b[0m \u001b[43m    \u001b[49m\u001b[43merrors\u001b[49m\u001b[38;5;241;43m=\u001b[39;49m\u001b[38;5;28;43mself\u001b[39;49m\u001b[38;5;241;43m.\u001b[39;49m\u001b[43moptions\u001b[49m\u001b[38;5;241;43m.\u001b[39;49m\u001b[43mget\u001b[49m\u001b[43m(\u001b[49m\u001b[38;5;124;43m\"\u001b[39;49m\u001b[38;5;124;43mencoding_errors\u001b[39;49m\u001b[38;5;124;43m\"\u001b[39;49m\u001b[43m,\u001b[49m\u001b[43m \u001b[49m\u001b[38;5;124;43m\"\u001b[39;49m\u001b[38;5;124;43mstrict\u001b[39;49m\u001b[38;5;124;43m\"\u001b[39;49m\u001b[43m)\u001b[49m\u001b[43m,\u001b[49m\n\u001b[1;32m   1888\u001b[0m \u001b[43m    \u001b[49m\u001b[43mstorage_options\u001b[49m\u001b[38;5;241;43m=\u001b[39;49m\u001b[38;5;28;43mself\u001b[39;49m\u001b[38;5;241;43m.\u001b[39;49m\u001b[43moptions\u001b[49m\u001b[38;5;241;43m.\u001b[39;49m\u001b[43mget\u001b[49m\u001b[43m(\u001b[49m\u001b[38;5;124;43m\"\u001b[39;49m\u001b[38;5;124;43mstorage_options\u001b[39;49m\u001b[38;5;124;43m\"\u001b[39;49m\u001b[43m,\u001b[49m\u001b[43m \u001b[49m\u001b[38;5;28;43;01mNone\u001b[39;49;00m\u001b[43m)\u001b[49m\u001b[43m,\u001b[49m\n\u001b[1;32m   1889\u001b[0m \u001b[43m\u001b[49m\u001b[43m)\u001b[49m\n\u001b[1;32m   1890\u001b[0m \u001b[38;5;28;01massert\u001b[39;00m \u001b[38;5;28mself\u001b[39m\u001b[38;5;241m.\u001b[39mhandles \u001b[38;5;129;01mis\u001b[39;00m \u001b[38;5;129;01mnot\u001b[39;00m \u001b[38;5;28;01mNone\u001b[39;00m\n\u001b[1;32m   1891\u001b[0m f \u001b[38;5;241m=\u001b[39m \u001b[38;5;28mself\u001b[39m\u001b[38;5;241m.\u001b[39mhandles\u001b[38;5;241m.\u001b[39mhandle\n",
      "File \u001b[0;32m~/Programming/PycharmProjects/UNI/UczenieMaszynowe/.venv/lib/python3.10/site-packages/pandas/io/common.py:873\u001b[0m, in \u001b[0;36mget_handle\u001b[0;34m(path_or_buf, mode, encoding, compression, memory_map, is_text, errors, storage_options)\u001b[0m\n\u001b[1;32m    868\u001b[0m \u001b[38;5;28;01melif\u001b[39;00m \u001b[38;5;28misinstance\u001b[39m(handle, \u001b[38;5;28mstr\u001b[39m):\n\u001b[1;32m    869\u001b[0m     \u001b[38;5;66;03m# Check whether the filename is to be opened in binary mode.\u001b[39;00m\n\u001b[1;32m    870\u001b[0m     \u001b[38;5;66;03m# Binary mode does not support 'encoding' and 'newline'.\u001b[39;00m\n\u001b[1;32m    871\u001b[0m     \u001b[38;5;28;01mif\u001b[39;00m ioargs\u001b[38;5;241m.\u001b[39mencoding \u001b[38;5;129;01mand\u001b[39;00m \u001b[38;5;124m\"\u001b[39m\u001b[38;5;124mb\u001b[39m\u001b[38;5;124m\"\u001b[39m \u001b[38;5;129;01mnot\u001b[39;00m \u001b[38;5;129;01min\u001b[39;00m ioargs\u001b[38;5;241m.\u001b[39mmode:\n\u001b[1;32m    872\u001b[0m         \u001b[38;5;66;03m# Encoding\u001b[39;00m\n\u001b[0;32m--> 873\u001b[0m         handle \u001b[38;5;241m=\u001b[39m \u001b[38;5;28;43mopen\u001b[39;49m\u001b[43m(\u001b[49m\n\u001b[1;32m    874\u001b[0m \u001b[43m            \u001b[49m\u001b[43mhandle\u001b[49m\u001b[43m,\u001b[49m\n\u001b[1;32m    875\u001b[0m \u001b[43m            \u001b[49m\u001b[43mioargs\u001b[49m\u001b[38;5;241;43m.\u001b[39;49m\u001b[43mmode\u001b[49m\u001b[43m,\u001b[49m\n\u001b[1;32m    876\u001b[0m \u001b[43m            \u001b[49m\u001b[43mencoding\u001b[49m\u001b[38;5;241;43m=\u001b[39;49m\u001b[43mioargs\u001b[49m\u001b[38;5;241;43m.\u001b[39;49m\u001b[43mencoding\u001b[49m\u001b[43m,\u001b[49m\n\u001b[1;32m    877\u001b[0m \u001b[43m            \u001b[49m\u001b[43merrors\u001b[49m\u001b[38;5;241;43m=\u001b[39;49m\u001b[43merrors\u001b[49m\u001b[43m,\u001b[49m\n\u001b[1;32m    878\u001b[0m \u001b[43m            \u001b[49m\u001b[43mnewline\u001b[49m\u001b[38;5;241;43m=\u001b[39;49m\u001b[38;5;124;43m\"\u001b[39;49m\u001b[38;5;124;43m\"\u001b[39;49m\u001b[43m,\u001b[49m\n\u001b[1;32m    879\u001b[0m \u001b[43m        \u001b[49m\u001b[43m)\u001b[49m\n\u001b[1;32m    880\u001b[0m     \u001b[38;5;28;01melse\u001b[39;00m:\n\u001b[1;32m    881\u001b[0m         \u001b[38;5;66;03m# Binary mode\u001b[39;00m\n\u001b[1;32m    882\u001b[0m         handle \u001b[38;5;241m=\u001b[39m \u001b[38;5;28mopen\u001b[39m(handle, ioargs\u001b[38;5;241m.\u001b[39mmode)\n",
      "\u001b[0;31mFileNotFoundError\u001b[0m: [Errno 2] No such file or directory: '../data/TestData.csv'"
     ]
    }
   ],
   "source": [
    "X_train,y_train=getTestData()\n",
    "X_test,y_test=getTrainingData()\n",
    "Model=FinalModel(X_train,X_test,y_train,y_test)\n",
    "FinalImportance(X_train,y_train)"
   ]
  },
  {
   "cell_type": "markdown",
   "id": "d4bced32-246b-49a3-8d50-d4e9061da235",
   "metadata": {},
   "source": [
    "## OFFICIAL TEST"
   ]
  },
  {
   "cell_type": "code",
   "execution_count": 5,
   "id": "cccaf154-8ad8-4f90-accc-fa7f1fcc0341",
   "metadata": {},
   "outputs": [],
   "source": [
    "X_train,y_train=getTestData()\n",
    "X_test,y_test=getTrainingData()\n",
    "X_TRAIN = pd.concat([X_train, X_test]).reset_index(drop=True)\n",
    "Y_TRAIN = pd.concat([y_train, y_test]).reset_index(drop=True)"
   ]
  },
  {
   "cell_type": "code",
   "execution_count": 6,
   "id": "0aee8ef3-270c-44fb-8409-c687f40f9b54",
   "metadata": {},
   "outputs": [
    {
     "ename": "NameError",
     "evalue": "name 'ImportanceGetter' is not defined",
     "output_type": "error",
     "traceback": [
      "\u001b[31m---------------------------------------------------------------------------\u001b[39m",
      "\u001b[31mNameError\u001b[39m                                 Traceback (most recent call last)",
      "\u001b[36mCell\u001b[39m\u001b[36m \u001b[39m\u001b[32mIn[6]\u001b[39m\u001b[32m, line 1\u001b[39m\n\u001b[32m----> \u001b[39m\u001b[32m1\u001b[39m \u001b[43mFinalImportance\u001b[49m\u001b[43m(\u001b[49m\u001b[43mX_TRAIN\u001b[49m\u001b[43m,\u001b[49m\u001b[43mY_TRAIN\u001b[49m\u001b[43m)\u001b[49m\n",
      "\u001b[36mCell\u001b[39m\u001b[36m \u001b[39m\u001b[32mIn[3]\u001b[39m\u001b[32m, line 33\u001b[39m, in \u001b[36mFinalImportance\u001b[39m\u001b[34m(X_train, y_train)\u001b[39m\n\u001b[32m     31\u001b[39m Lgbm.fit(X_train,y_train)\n\u001b[32m     32\u001b[39m Cat.fit(X_train,y_train) \n\u001b[32m---> \u001b[39m\u001b[32m33\u001b[39m importanceslgbm=\u001b[43mImportanceGetter\u001b[49m(Lgbm) \n\u001b[32m     34\u001b[39m \u001b[38;5;28mprint\u001b[39m(importanceslgbm) \n\u001b[32m     35\u001b[39m importancesCat=ImportanceGetter(Cat)\n",
      "\u001b[31mNameError\u001b[39m: name 'ImportanceGetter' is not defined"
     ]
    }
   ],
   "source": []
  },
  {
   "cell_type": "code",
   "execution_count": null,
   "id": "5d75966a-0550-4731-a63e-64f2c1e35191",
   "metadata": {},
   "outputs": [],
   "source": [
    "X_TEST,Y_TEST=getValidationData()\n",
    "FinalModel(X_TRAIN,X_TEST,Y_TRAIN,Y_TEST,threshold=0.5)"
   ]
  },
  {
   "cell_type": "code",
   "execution_count": null,
   "id": "41302e48-9acb-4286-aa11-35e82fcce97d",
   "metadata": {},
   "outputs": [],
   "source": []
  }
 ],
 "metadata": {
  "kernelspec": {
   "display_name": "Python 3 (ipykernel)",
   "language": "python",
   "name": "python3"
  },
  "language_info": {
   "codemirror_mode": {
    "name": "ipython",
    "version": 3
   },
   "file_extension": ".py",
   "mimetype": "text/x-python",
   "name": "python",
   "nbconvert_exporter": "python",
   "pygments_lexer": "ipython3",
   "version": "3.10.11"
  }
 },
 "nbformat": 4,
 "nbformat_minor": 5
}
