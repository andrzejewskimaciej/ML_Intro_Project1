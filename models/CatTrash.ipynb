{
 "cells": [
  {
   "cell_type": "code",
   "execution_count": 1,
   "id": "8bf2aa21-85bb-4617-b99c-563f477b46f8",
   "metadata": {
    "scrolled": true
   },
   "outputs": [],
   "source": [
    "from catboost import CatBoostClassifier\n",
    "import nbimporter\n",
    "from ColumnTransformers import *\n",
    "from sklearn.model_selection import GridSearchCV"
   ]
  },
  {
   "cell_type": "code",
   "execution_count": null,
   "id": "16d61b3a-13a4-41ec-949d-b55699508af7",
   "metadata": {},
   "outputs": [],
   "source": [
    "def CatBoostPipeline(Numerical=['Transaction.Amount', 'Customer.Age','Account.Age.Days','Quantity'],\n",
    "                    cat_features=[\"Payment.Method\",'browser','Product.Category','Device.Used','source',\"sex\"]): \n",
    "    column_transformer = ColumnTransformer([\n",
    "        ('time_features', TimeTransformer(),[\"Transaction.Date\",\"Transaction.Hour\"]), \n",
    "        (\"high_amount\",HighAmountTransformer(),[\"Transaction.Amount\"]),\n",
    "        (\"numerical\",StandardScaler(),Numerical), \n",
    "        (\"age\",AgeTransfomer(),[\"Customer.Age\"])]) \n",
    "    return column_transformer\n",
    "\n",
    "X,y=KCrossData()\n",
    "CBP=CatBoostPipeline() \n",
    "CBP.fit(X) \n",
    "X_transformed=CBP.transform(x) \n",
    "cat_features=[\"Payment.Method\",'browser','Product.Category','Device.Used','source',\"sex\"]\n",
    "model = CatBoostClassifier(iterations=100) # number of trees\n",
    "model.fit(X_transformed, y, cat_features=cat_features, verbose=10) # categorical features"
   ]
  },
  {
   "cell_type": "code",
   "execution_count": null,
   "id": "f03909cb-e452-4492-a912-ac3099059335",
   "metadata": {},
   "outputs": [],
   "source": [
    "\n",
    "param_grid = {\n",
    "    'iterations': [100, 300, 500],           # Number of boosting iterations (trees)\n",
    "    'learning_rate': [0.001, 0.01, 0.1],     # Step size shrinkage\n",
    "    'depth': [4, 6, 8],                      # Depth of each tree\n",
    "    'l2_leaf_reg': [1, 3, 5],                # L2 regularization\n",
    "    'border_count': [32, 64, 128],           # Number of splits for numerical features\n",
    "    'bagging_temperature': [0, 1, 5],        # Controls intensity of bagging\n",
    "    'random_strength': [1, 5, 10],           # How random score is used for splits\n",
    "    'od_type': ['Iter', 'IncToDec'],        # Type of overfitting detector\n",
    "    'od_wait': [20, 50],                     # Rounds to wait before early stopping\n",
    "    'scale_pos_weight': [1, 2, 5],           # Class weight scaling (for imbalanced data)\n",
    "    'bootstrap_type': ['Bayesian', 'Bernoulli', 'MVS'],  # Type of bootstrap\n",
    "    'grow_policy': ['SymmetricTree', 'Depthwise', 'Lossguide'],  # Tree growth policy\n",
    "    'colsample_bylevel': [0.5, 1.0],         # Subsample ratio of columns for each split level\n",
    "    'min_data_in_leaf': [1, 10, 30],         # Minimum samples in leaf\n",
    "    'max_leaves': [31, 64, 128]              \n",
    "}\n",
    "\n",
    "clf = CatBoostClassifier(\n",
    "    iterations=50,\n",
    "    cat_features=cat_features,\n",
    "    verbose=20\n",
    ")\n",
    "\n",
    "grid_search = GridSearchCV(clf, param_grid=param_grid, cv=3)\n",
    "grid_search.fit(X_train, y_train)\n",
    "\n",
    "grid_search.best_estimator_.get_params()"
   ]
  },
  {
   "cell_type": "code",
   "execution_count": null,
   "id": "e698871f-fdcb-40b0-b25b-48f37f0a3c09",
   "metadata": {},
   "outputs": [],
   "source": []
  },
  {
   "cell_type": "code",
   "execution_count": null,
   "id": "c093b36e-8267-4960-a71d-e65978ccec78",
   "metadata": {},
   "outputs": [],
   "source": [
    "from catboost import Pool \n",
    "pool=Pool(data=X,label=y,cat_features=cat_features)"
   ]
  },
  {
   "cell_type": "code",
   "execution_count": null,
   "id": "75d50335-5bbd-4f4f-8ac1-0ade88fa5c49",
   "metadata": {},
   "outputs": [],
   "source": [
    "from sklearn.model_selection import train_test_split\n",
    "\n",
    "data = train_test_split(X, y, test_size=0.2, random_state=0)\n",
    "X_train, X_validation, y_train, y_validation = data\n",
    "\n",
    "train_pool = Pool(\n",
    "    data=X_train,\n",
    "    label=y_train,\n",
    "    cat_features=cat_features\n",
    ")\n",
    "\n",
    "validation_pool = Pool(\n",
    "    data=X_validation,\n",
    "    label=y_validation,\n",
    "    cat_features=cat_features\n",
    ")\n"
   ]
  },
  {
   "cell_type": "code",
   "execution_count": null,
   "id": "b6594cfd-f1f0-49b6-9f8b-c04ba3df4632",
   "metadata": {},
   "outputs": [],
   "source": [
    "# CrossEntropy for probabilities in target.\n",
    "\n",
    "model = CatBoostClassifier(\n",
    "    iterations=5,\n",
    "    learning_rate=0.1,\n",
    "    loss_function='CrossEntropy'\n",
    ")\n",
    "\n",
    "model.fit(train_pool, eval_set=validation_pool, verbose=False)\n",
    "\n",
    "print(\"Model is fitted: {}\".format(model.is_fitted()))\n",
    "print(\"Model params: {}\".format(model.get_params()))\n"
   ]
  },
  {
   "cell_type": "code",
   "execution_count": null,
   "id": "b91245c9-f532-4329-ac46-cafed5c4b7a9",
   "metadata": {},
   "outputs": [],
   "source": [
    "model = CatBoostClassifier(\n",
    "    iterations=50,\n",
    "    learning_rate=0.5,\n",
    "    custom_loss=['AUC', 'Accuracy'], \n",
    "    eval_metric=\"AUC\",\n",
    "    early_stopping=20\n",
    ")\n",
    "\n",
    "model.fit(\n",
    "    train_pool,\n",
    "    eval_set=validation_pool,\n",
    "    verbose=False,\n",
    "    plot=True\n",
    ")\n",
    "#select treshold"
   ]
  },
  {
   "cell_type": "code",
   "execution_count": null,
   "id": "403f2fa9-1bb2-45ef-b4c9-bb1b9ab04c3e",
   "metadata": {},
   "outputs": [],
   "source": [
    "from catboost import cv\n",
    "\n",
    "params = {\n",
    "    'loss_function': 'Logloss',\n",
    "    'iterations': 100,\n",
    "    'custom_loss': 'AUC',\n",
    "    'learning_rate': 0.2\n",
    "}\n",
    "# by default it stratifies\n",
    "cv_data = cv(\n",
    "    params=params,\n",
    "    pool=train_pool,\n",
    "    fold_count=3,\n",
    "    shuffle=True,\n",
    "    partition_random_seed=0,\n",
    "    plot=True,\n",
    "    stratified=True,\n",
    "    verbose=False\n",
    ")\n",
    "\n",
    "cv_data.head(10)\n",
    "\n",
    "best_value = np.min(cv_data['test-Logloss-mean'])\n",
    "best_iter = np.argmin(cv_data['test-Logloss-mean'])\n",
    "\n",
    "print(\n",
    "    \"Best validation Logloss score, not stratified: {:.4f}±{:.4f} on step {}\".format(\n",
    "        best_value, \n",
    "        cv_data['test-Logloss-std'][best_iter], \n",
    "        best_iter\n",
    "    )\n",
    ")\n"
   ]
  },
  {
   "cell_type": "code",
   "execution_count": null,
   "id": "662306c4-03a8-4b3f-baa9-7e1bc51926f1",
   "metadata": {},
   "outputs": [],
   "source": [
    "from sklearn.model_selection import GridSearchCV\n",
    "\n",
    "param_grid = {\n",
    "    'learning_rate': [0.001, 0.01, 0.5]\n",
    "}\n",
    "\n",
    "clf = CatBoostClassifier(\n",
    "    iterations=50,\n",
    "    cat_features=cat_features,\n",
    "    verbose=20\n",
    ")\n",
    "\n",
    "grid_search = GridSearchCV(clf, param_grid=param_grid, cv=3)\n",
    "grid_search.fit(X_train, y_train)\n",
    "\n",
    "grid_search.best_estimator_.get_params()"
   ]
  },
  {
   "cell_type": "code",
   "execution_count": null,
   "id": "f2b333a1-a351-4f3e-bcd8-efea8bb5e28e",
   "metadata": {},
   "outputs": [],
   "source": [
    "tunned_model = CatBoostClassifier(\n",
    "    iterations=1000,\n",
    "    learning_rate=0.03,\n",
    "    depth=6,\n",
    "    l2_leaf_reg=3,\n",
    "    random_strength=1,\n",
    "    bagging_temperature=1\n",
    ")\n",
    "\n",
    "tunned_model.fit(\n",
    "    X_train, y_train,\n",
    "    cat_features=cat_features,\n",
    "    verbose=False,\n",
    "    eval_set=(X_validation, y_validation),\n",
    "    plot=True\n",
    ")"
   ]
  }
 ],
 "metadata": {
  "kernelspec": {
   "display_name": "Python 3 (ipykernel)",
   "language": "python",
   "name": "python3"
  },
  "language_info": {
   "codemirror_mode": {
    "name": "ipython",
    "version": 3
   },
   "file_extension": ".py",
   "mimetype": "text/x-python",
   "name": "python",
   "nbconvert_exporter": "python",
   "pygments_lexer": "ipython3",
   "version": "3.11.9"
  }
 },
 "nbformat": 4,
 "nbformat_minor": 5
}
