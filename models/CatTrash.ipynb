{
 "cells": [
  {
   "cell_type": "code",
   "execution_count": 2,
   "id": "8bf2aa21-85bb-4617-b99c-563f477b46f8",
   "metadata": {
    "collapsed": true,
    "jupyter": {
     "outputs_hidden": true
    }
   },
   "outputs": [
    {
     "name": "stdout",
     "output_type": "stream",
     "text": [
      "Collecting catboost\n",
      "  Obtaining dependency information for catboost from https://files.pythonhosted.org/packages/1c/e1/78e635a1e5f0066bd02a1ecfd658ad09fe30d275c65c2d0dd76fe253e648/catboost-1.2.7-cp311-cp311-win_amd64.whl.metadata\n",
      "  Using cached catboost-1.2.7-cp311-cp311-win_amd64.whl.metadata (1.2 kB)\n",
      "Collecting graphviz (from catboost)\n",
      "  Obtaining dependency information for graphviz from https://files.pythonhosted.org/packages/00/be/d59db2d1d52697c6adc9eacaf50e8965b6345cc143f671e1ed068818d5cf/graphviz-0.20.3-py3-none-any.whl.metadata\n",
      "  Using cached graphviz-0.20.3-py3-none-any.whl.metadata (12 kB)\n",
      "Requirement already satisfied: matplotlib in c:\\users\\ricardo\\programming\\pycharmprojects\\ml_intro-projects\\venv\\lib\\site-packages (from catboost) (3.10.1)\n",
      "Requirement already satisfied: numpy<2.0,>=1.16.0 in c:\\users\\ricardo\\programming\\pycharmprojects\\ml_intro-projects\\venv\\lib\\site-packages (from catboost) (1.26.4)\n",
      "Requirement already satisfied: pandas>=0.24 in c:\\users\\ricardo\\programming\\pycharmprojects\\ml_intro-projects\\venv\\lib\\site-packages (from catboost) (2.2.3)\n",
      "Requirement already satisfied: scipy in c:\\users\\ricardo\\programming\\pycharmprojects\\ml_intro-projects\\venv\\lib\\site-packages (from catboost) (1.15.2)\n",
      "Collecting plotly (from catboost)\n",
      "  Obtaining dependency information for plotly from https://files.pythonhosted.org/packages/02/65/ad2bc85f7377f5cfba5d4466d5474423a3fb7f6a97fd807c06f92dd3e721/plotly-6.0.1-py3-none-any.whl.metadata\n",
      "  Using cached plotly-6.0.1-py3-none-any.whl.metadata (6.7 kB)\n",
      "Requirement already satisfied: six in c:\\users\\ricardo\\programming\\pycharmprojects\\ml_intro-projects\\venv\\lib\\site-packages (from catboost) (1.17.0)\n",
      "Requirement already satisfied: python-dateutil>=2.8.2 in c:\\users\\ricardo\\programming\\pycharmprojects\\ml_intro-projects\\venv\\lib\\site-packages (from pandas>=0.24->catboost) (2.9.0.post0)\n",
      "Requirement already satisfied: pytz>=2020.1 in c:\\users\\ricardo\\programming\\pycharmprojects\\ml_intro-projects\\venv\\lib\\site-packages (from pandas>=0.24->catboost) (2025.1)\n",
      "Requirement already satisfied: tzdata>=2022.7 in c:\\users\\ricardo\\programming\\pycharmprojects\\ml_intro-projects\\venv\\lib\\site-packages (from pandas>=0.24->catboost) (2025.1)\n",
      "Requirement already satisfied: contourpy>=1.0.1 in c:\\users\\ricardo\\programming\\pycharmprojects\\ml_intro-projects\\venv\\lib\\site-packages (from matplotlib->catboost) (1.3.1)\n",
      "Requirement already satisfied: cycler>=0.10 in c:\\users\\ricardo\\programming\\pycharmprojects\\ml_intro-projects\\venv\\lib\\site-packages (from matplotlib->catboost) (0.12.1)\n",
      "Requirement already satisfied: fonttools>=4.22.0 in c:\\users\\ricardo\\programming\\pycharmprojects\\ml_intro-projects\\venv\\lib\\site-packages (from matplotlib->catboost) (4.56.0)\n",
      "Requirement already satisfied: kiwisolver>=1.3.1 in c:\\users\\ricardo\\programming\\pycharmprojects\\ml_intro-projects\\venv\\lib\\site-packages (from matplotlib->catboost) (1.4.8)\n",
      "Requirement already satisfied: packaging>=20.0 in c:\\users\\ricardo\\programming\\pycharmprojects\\ml_intro-projects\\venv\\lib\\site-packages (from matplotlib->catboost) (24.2)\n",
      "Requirement already satisfied: pillow>=8 in c:\\users\\ricardo\\programming\\pycharmprojects\\ml_intro-projects\\venv\\lib\\site-packages (from matplotlib->catboost) (11.1.0)\n",
      "Requirement already satisfied: pyparsing>=2.3.1 in c:\\users\\ricardo\\programming\\pycharmprojects\\ml_intro-projects\\venv\\lib\\site-packages (from matplotlib->catboost) (3.2.1)\n",
      "Collecting narwhals>=1.15.1 (from plotly->catboost)\n",
      "  Obtaining dependency information for narwhals>=1.15.1 from https://files.pythonhosted.org/packages/f9/c0/fb39bd876ea2fd9509343d643690cd2f9715e6a77271e7c7b26f1eea70c1/narwhals-1.31.0-py3-none-any.whl.metadata\n",
      "  Using cached narwhals-1.31.0-py3-none-any.whl.metadata (11 kB)\n",
      "Using cached catboost-1.2.7-cp311-cp311-win_amd64.whl (101.7 MB)\n",
      "Using cached graphviz-0.20.3-py3-none-any.whl (47 kB)\n",
      "Using cached plotly-6.0.1-py3-none-any.whl (14.8 MB)\n",
      "Using cached narwhals-1.31.0-py3-none-any.whl (313 kB)\n",
      "Installing collected packages: narwhals, graphviz, plotly, catboost\n",
      "Successfully installed catboost-1.2.7 graphviz-0.20.3 narwhals-1.31.0 plotly-6.0.1\n"
     ]
    },
    {
     "name": "stderr",
     "output_type": "stream",
     "text": [
      "\n",
      "[notice] A new release of pip is available: 23.2.1 -> 25.0.1\n",
      "[notice] To update, run: python.exe -m pip install --upgrade pip\n"
     ]
    }
   ],
   "source": [
    "from catboost import CatBoostClassifier"
   ]
  },
  {
   "cell_type": "code",
   "execution_count": null,
   "id": "9b1db545-f587-45c1-ae02-2b96f3a7268e",
   "metadata": {},
   "outputs": [],
   "source": []
  },
  {
   "cell_type": "code",
   "execution_count": null,
   "id": "e698871f-fdcb-40b0-b25b-48f37f0a3c09",
   "metadata": {},
   "outputs": [],
   "source": [
    "model = CatBoostClassifier(iterations=100) # number of trees\n",
    "model.fit(X, y, cat_features=cat_features, verbose=10) # categorical features"
   ]
  },
  {
   "cell_type": "code",
   "execution_count": null,
   "id": "c093b36e-8267-4960-a71d-e65978ccec78",
   "metadata": {},
   "outputs": [],
   "source": [
    "from catboost import Pool \n",
    "pool=Pool(data=X,label=y,cat_features=cat_features)"
   ]
  },
  {
   "cell_type": "code",
   "execution_count": null,
   "id": "75d50335-5bbd-4f4f-8ac1-0ade88fa5c49",
   "metadata": {},
   "outputs": [],
   "source": [
    "from sklearn.model_selection import train_test_split\n",
    "\n",
    "data = train_test_split(X, y, test_size=0.2, random_state=0)\n",
    "X_train, X_validation, y_train, y_validation = data\n",
    "\n",
    "train_pool = Pool(\n",
    "    data=X_train,\n",
    "    label=y_train,\n",
    "    cat_features=cat_features\n",
    ")\n",
    "\n",
    "validation_pool = Pool(\n",
    "    data=X_validation,\n",
    "    label=y_validation,\n",
    "    cat_features=cat_features\n",
    ")\n"
   ]
  },
  {
   "cell_type": "code",
   "execution_count": null,
   "id": "b6594cfd-f1f0-49b6-9f8b-c04ba3df4632",
   "metadata": {},
   "outputs": [],
   "source": [
    "# CrossEntropy for probabilities in target.\n",
    "\n",
    "model = CatBoostClassifier(\n",
    "    iterations=5,\n",
    "    learning_rate=0.1,\n",
    "    loss_function='CrossEntropy'\n",
    ")\n",
    "\n",
    "model.fit(train_pool, eval_set=validation_pool, verbose=False)\n",
    "\n",
    "print(\"Model is fitted: {}\".format(model.is_fitted()))\n",
    "print(\"Model params: {}\".format(model.get_params()))\n"
   ]
  },
  {
   "cell_type": "code",
   "execution_count": null,
   "id": "b91245c9-f532-4329-ac46-cafed5c4b7a9",
   "metadata": {},
   "outputs": [],
   "source": [
    "model = CatBoostClassifier(\n",
    "    iterations=50,\n",
    "    learning_rate=0.5,\n",
    "    custom_loss=['AUC', 'Accuracy'], \n",
    "    eval_metric=\"AUC\",\n",
    "    early_stopping=20\n",
    ")\n",
    "\n",
    "model.fit(\n",
    "    train_pool,\n",
    "    eval_set=validation_pool,\n",
    "    verbose=False,\n",
    "    plot=True\n",
    ")\n",
    "#select treshold"
   ]
  },
  {
   "cell_type": "code",
   "execution_count": null,
   "id": "403f2fa9-1bb2-45ef-b4c9-bb1b9ab04c3e",
   "metadata": {},
   "outputs": [],
   "source": [
    "from catboost import cv\n",
    "\n",
    "params = {\n",
    "    'loss_function': 'Logloss',\n",
    "    'iterations': 100,\n",
    "    'custom_loss': 'AUC',\n",
    "    'learning_rate': 0.2\n",
    "}\n",
    "# by default it stratifies\n",
    "cv_data = cv(\n",
    "    params=params,\n",
    "    pool=train_pool,\n",
    "    fold_count=3,\n",
    "    shuffle=True,\n",
    "    partition_random_seed=0,\n",
    "    plot=True,\n",
    "    stratified=True,\n",
    "    verbose=False\n",
    ")\n",
    "\n",
    "cv_data.head(10)\n",
    "\n",
    "best_value = np.min(cv_data['test-Logloss-mean'])\n",
    "best_iter = np.argmin(cv_data['test-Logloss-mean'])\n",
    "\n",
    "print(\n",
    "    \"Best validation Logloss score, not stratified: {:.4f}±{:.4f} on step {}\".format(\n",
    "        best_value, \n",
    "        cv_data['test-Logloss-std'][best_iter], \n",
    "        best_iter\n",
    "    )\n",
    ")\n"
   ]
  },
  {
   "cell_type": "code",
   "execution_count": null,
   "id": "662306c4-03a8-4b3f-baa9-7e1bc51926f1",
   "metadata": {},
   "outputs": [],
   "source": [
    "from sklearn.model_selection import GridSearchCV\n",
    "\n",
    "param_grid = {\n",
    "    'learning_rate': [0.001, 0.01, 0.5]\n",
    "}\n",
    "\n",
    "clf = CatBoostClassifier(\n",
    "    iterations=50,\n",
    "    cat_features=cat_features,\n",
    "    verbose=20\n",
    ")\n",
    "\n",
    "grid_search = GridSearchCV(clf, param_grid=param_grid, cv=3)\n",
    "grid_search.fit(X_train, y_train)\n",
    "\n",
    "grid_search.best_estimator_.get_params()"
   ]
  },
  {
   "cell_type": "code",
   "execution_count": null,
   "id": "f2b333a1-a351-4f3e-bcd8-efea8bb5e28e",
   "metadata": {},
   "outputs": [],
   "source": [
    "tunned_model = CatBoostClassifier(\n",
    "    iterations=1000,\n",
    "    learning_rate=0.03,\n",
    "    depth=6,\n",
    "    l2_leaf_reg=3,\n",
    "    random_strength=1,\n",
    "    bagging_temperature=1\n",
    ")\n",
    "\n",
    "tunned_model.fit(\n",
    "    X_train, y_train,\n",
    "    cat_features=cat_features,\n",
    "    verbose=False,\n",
    "    eval_set=(X_validation, y_validation),\n",
    "    plot=True\n",
    ")"
   ]
  }
 ],
 "metadata": {
  "kernelspec": {
   "display_name": "Python 3 (ipykernel)",
   "language": "python",
   "name": "python3"
  },
  "language_info": {
   "codemirror_mode": {
    "name": "ipython",
    "version": 3
   },
   "file_extension": ".py",
   "mimetype": "text/x-python",
   "name": "python",
   "nbconvert_exporter": "python",
   "pygments_lexer": "ipython3",
   "version": "3.11.9"
  }
 },
 "nbformat": 4,
 "nbformat_minor": 5
}
